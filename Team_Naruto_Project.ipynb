{
  "cells": [
    {
      "cell_type": "markdown",
      "metadata": {
        "id": "view-in-github",
        "colab_type": "text"
      },
      "source": [
        "<a href=\"https://colab.research.google.com/github/001ckk/Airline-dataset-to-predict-flight-delays-/blob/main/Team_Naruto_Project.ipynb\" target=\"_parent\"><img src=\"https://colab.research.google.com/assets/colab-badge.svg\" alt=\"Open In Colab\"/></a>"
      ]
    },
    {
      "cell_type": "markdown",
      "source": [
        "#**AIRLINE DATASET TO PREDICT A FLIGHT DELAY.**"
      ],
      "metadata": {
        "id": "xY3211VD2-AI"
      }
    },
    {
      "cell_type": "markdown",
      "metadata": {
        "id": "ablDPcyzHwp8"
      },
      "source": [
        "![Flight-delay.webp](data:image/webp;base64,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)\n",
        "# **Introduction**\n",
        "With the instantaneous  development of today’s air transport industry, airline travel has in the recent past become a very popular mode of travel. There are so many benefits of traveling by air as compared to other forms of travel. Most important of these benefits being safety and speed. Flying has also become quite affordable in the past decade and it is the most preferred by people traveling both far and short distances. \n",
        "Despite these benefits there are still some disadvantages to flying, among them being delays in flights. Delay in flight is an inevitable phenomenon which has significant negative economic effects on airports, passengers and travel agencies. \n",
        "A flight delay is when an airline flight takes off and/or lands later than its scheduled time. The Federal Aviation Administration (FAA) considers a flight to be delayed when it is 15 minutes later than its scheduled time. A cancellation occurs when the airline does not operate the flight at all for a certain reason."
      ]
    },
    {
      "cell_type": "markdown",
      "metadata": {
        "id": "CrhfO1O4H1fm"
      },
      "source": [
        "## **Problem Statement**\n",
        "\n",
        "With this study, we aim at predicting if a flight will be delayed or not depending on the factors that we will analyze. Predicting flight delays will help improve airline operations and attain passenger satisfaction, which will result in a positive economic impact on passengers, airlines, airports and travel agencies. "
      ]
    },
    {
      "cell_type": "markdown",
      "source": [
        "# **Objectives.**\n",
        "\n",
        "We aim to build a model that predicts whether a given flight will be delayed given the information in the scheduled departure.\n"
      ],
      "metadata": {
        "id": "aAFfmpbst9Tp"
      }
    },
    {
      "cell_type": "markdown",
      "metadata": {
        "id": "22GTaNTmH1Tc"
      },
      "source": [
        "## **Research Questions**\n",
        "\n",
        "1. Which airline has the most delays.\n",
        "2. Which airport there were most delays.\n",
        "3. What was the average delay time for each airline.\n",
        "4. Which day of the week had the most delays.\n",
        "5. Is a relationship/ correlation between the airport and airline which may lead to delays in flights.\n"
      ]
    },
    {
      "cell_type": "markdown",
      "metadata": {
        "id": "1zTzTnMZH8DD"
      },
      "source": [
        "### **Metrics of success**\n",
        "* Read and explore the given dataset.\n",
        "\n",
        "* Finding and dealing with outliers, anomalies, and missing data within the dataset.\n",
        "\n",
        "* Performing univariate, bivariate and multivariate analysis.\n",
        "\n",
        "* Performing Decision tree, KNN, Naive Bayes models and choosing the best model with the highest f1 score with an improvement of both classes.\n",
        "\n",
        "* Providing recommendation based the analysis.\n",
        "\n",
        "* Challenge the solution of our best with a different model."
      ]
    },
    {
      "cell_type": "markdown",
      "metadata": {
        "id": "k-UcUIloHlSD"
      },
      "source": [
        "## **Data Understanding**"
      ]
    },
    {
      "cell_type": "code",
      "execution_count": null,
      "metadata": {
        "colab": {
          "base_uri": "https://localhost:8080/"
        },
        "id": "K8xryQK6FXSf",
        "outputId": "a07a1658-7049-4a79-f00e-d2a342c6039c"
      },
      "outputs": [
        {
          "output_type": "stream",
          "name": "stdout",
          "text": [
            "Using matplotlib backend: agg\n"
          ]
        }
      ],
      "source": [
        "#Libraries\n",
        "import pandas as pd\n",
        "import numpy as np\n",
        "import seaborn as sns\n",
        "import matplotlib.pyplot as plt\n",
        "%matplotlib\n",
        "import warnings \n",
        "warnings.filterwarnings('ignore')"
      ]
    },
    {
      "cell_type": "code",
      "execution_count": null,
      "metadata": {
        "id": "QtqQJgaIHAtk"
      },
      "outputs": [],
      "source": [
        "#Loading the dataset\n",
        "df = pd.read_csv('Airlines.csv')"
      ]
    },
    {
      "cell_type": "code",
      "execution_count": null,
      "metadata": {
        "id": "pq9Qu0K3HNMy",
        "colab": {
          "base_uri": "https://localhost:8080/"
        },
        "outputId": "58d66c27-bdd7-42c1-e5ce-e49deb6fa861"
      },
      "outputs": [
        {
          "output_type": "execute_result",
          "data": {
            "text/plain": [
              "(276580, 9)"
            ]
          },
          "metadata": {},
          "execution_count": 3
        }
      ],
      "source": [
        "#Shape of the dataset\n",
        "df.shape\n",
        "# The data has 9 columns and 539,383 rows "
      ]
    },
    {
      "cell_type": "code",
      "execution_count": null,
      "metadata": {
        "id": "aKWO8m2bHNIo",
        "colab": {
          "base_uri": "https://localhost:8080/",
          "height": 206
        },
        "outputId": "09ff13ac-f31b-489a-af4d-1162d6e2c5e0"
      },
      "outputs": [
        {
          "output_type": "execute_result",
          "data": {
            "text/plain": [
              "   id Airline  Flight AirportFrom AirportTo  DayOfWeek  Time  Length  Delay\n",
              "0   1      CO     269         SFO       IAH        3.0  15.0   205.0    1.0\n",
              "1   2      US    1558         PHX       CLT        3.0  15.0   222.0    1.0\n",
              "2   3      AA    2400         LAX       DFW        3.0  20.0   165.0    1.0\n",
              "3   4      AA    2466         SFO       DFW        3.0  20.0   195.0    1.0\n",
              "4   5      AS     108         ANC       SEA        3.0  30.0   202.0    0.0"
            ],
            "text/html": [
              "\n",
              "  <div id=\"df-b40ac076-7b21-40ff-b33d-de24bdb2d352\">\n",
              "    <div class=\"colab-df-container\">\n",
              "      <div>\n",
              "<style scoped>\n",
              "    .dataframe tbody tr th:only-of-type {\n",
              "        vertical-align: middle;\n",
              "    }\n",
              "\n",
              "    .dataframe tbody tr th {\n",
              "        vertical-align: top;\n",
              "    }\n",
              "\n",
              "    .dataframe thead th {\n",
              "        text-align: right;\n",
              "    }\n",
              "</style>\n",
              "<table border=\"1\" class=\"dataframe\">\n",
              "  <thead>\n",
              "    <tr style=\"text-align: right;\">\n",
              "      <th></th>\n",
              "      <th>id</th>\n",
              "      <th>Airline</th>\n",
              "      <th>Flight</th>\n",
              "      <th>AirportFrom</th>\n",
              "      <th>AirportTo</th>\n",
              "      <th>DayOfWeek</th>\n",
              "      <th>Time</th>\n",
              "      <th>Length</th>\n",
              "      <th>Delay</th>\n",
              "    </tr>\n",
              "  </thead>\n",
              "  <tbody>\n",
              "    <tr>\n",
              "      <th>0</th>\n",
              "      <td>1</td>\n",
              "      <td>CO</td>\n",
              "      <td>269</td>\n",
              "      <td>SFO</td>\n",
              "      <td>IAH</td>\n",
              "      <td>3.0</td>\n",
              "      <td>15.0</td>\n",
              "      <td>205.0</td>\n",
              "      <td>1.0</td>\n",
              "    </tr>\n",
              "    <tr>\n",
              "      <th>1</th>\n",
              "      <td>2</td>\n",
              "      <td>US</td>\n",
              "      <td>1558</td>\n",
              "      <td>PHX</td>\n",
              "      <td>CLT</td>\n",
              "      <td>3.0</td>\n",
              "      <td>15.0</td>\n",
              "      <td>222.0</td>\n",
              "      <td>1.0</td>\n",
              "    </tr>\n",
              "    <tr>\n",
              "      <th>2</th>\n",
              "      <td>3</td>\n",
              "      <td>AA</td>\n",
              "      <td>2400</td>\n",
              "      <td>LAX</td>\n",
              "      <td>DFW</td>\n",
              "      <td>3.0</td>\n",
              "      <td>20.0</td>\n",
              "      <td>165.0</td>\n",
              "      <td>1.0</td>\n",
              "    </tr>\n",
              "    <tr>\n",
              "      <th>3</th>\n",
              "      <td>4</td>\n",
              "      <td>AA</td>\n",
              "      <td>2466</td>\n",
              "      <td>SFO</td>\n",
              "      <td>DFW</td>\n",
              "      <td>3.0</td>\n",
              "      <td>20.0</td>\n",
              "      <td>195.0</td>\n",
              "      <td>1.0</td>\n",
              "    </tr>\n",
              "    <tr>\n",
              "      <th>4</th>\n",
              "      <td>5</td>\n",
              "      <td>AS</td>\n",
              "      <td>108</td>\n",
              "      <td>ANC</td>\n",
              "      <td>SEA</td>\n",
              "      <td>3.0</td>\n",
              "      <td>30.0</td>\n",
              "      <td>202.0</td>\n",
              "      <td>0.0</td>\n",
              "    </tr>\n",
              "  </tbody>\n",
              "</table>\n",
              "</div>\n",
              "      <button class=\"colab-df-convert\" onclick=\"convertToInteractive('df-b40ac076-7b21-40ff-b33d-de24bdb2d352')\"\n",
              "              title=\"Convert this dataframe to an interactive table.\"\n",
              "              style=\"display:none;\">\n",
              "        \n",
              "  <svg xmlns=\"http://www.w3.org/2000/svg\" height=\"24px\"viewBox=\"0 0 24 24\"\n",
              "       width=\"24px\">\n",
              "    <path d=\"M0 0h24v24H0V0z\" fill=\"none\"/>\n",
              "    <path d=\"M18.56 5.44l.94 2.06.94-2.06 2.06-.94-2.06-.94-.94-2.06-.94 2.06-2.06.94zm-11 1L8.5 8.5l.94-2.06 2.06-.94-2.06-.94L8.5 2.5l-.94 2.06-2.06.94zm10 10l.94 2.06.94-2.06 2.06-.94-2.06-.94-.94-2.06-.94 2.06-2.06.94z\"/><path d=\"M17.41 7.96l-1.37-1.37c-.4-.4-.92-.59-1.43-.59-.52 0-1.04.2-1.43.59L10.3 9.45l-7.72 7.72c-.78.78-.78 2.05 0 2.83L4 21.41c.39.39.9.59 1.41.59.51 0 1.02-.2 1.41-.59l7.78-7.78 2.81-2.81c.8-.78.8-2.07 0-2.86zM5.41 20L4 18.59l7.72-7.72 1.47 1.35L5.41 20z\"/>\n",
              "  </svg>\n",
              "      </button>\n",
              "      \n",
              "  <style>\n",
              "    .colab-df-container {\n",
              "      display:flex;\n",
              "      flex-wrap:wrap;\n",
              "      gap: 12px;\n",
              "    }\n",
              "\n",
              "    .colab-df-convert {\n",
              "      background-color: #E8F0FE;\n",
              "      border: none;\n",
              "      border-radius: 50%;\n",
              "      cursor: pointer;\n",
              "      display: none;\n",
              "      fill: #1967D2;\n",
              "      height: 32px;\n",
              "      padding: 0 0 0 0;\n",
              "      width: 32px;\n",
              "    }\n",
              "\n",
              "    .colab-df-convert:hover {\n",
              "      background-color: #E2EBFA;\n",
              "      box-shadow: 0px 1px 2px rgba(60, 64, 67, 0.3), 0px 1px 3px 1px rgba(60, 64, 67, 0.15);\n",
              "      fill: #174EA6;\n",
              "    }\n",
              "\n",
              "    [theme=dark] .colab-df-convert {\n",
              "      background-color: #3B4455;\n",
              "      fill: #D2E3FC;\n",
              "    }\n",
              "\n",
              "    [theme=dark] .colab-df-convert:hover {\n",
              "      background-color: #434B5C;\n",
              "      box-shadow: 0px 1px 3px 1px rgba(0, 0, 0, 0.15);\n",
              "      filter: drop-shadow(0px 1px 2px rgba(0, 0, 0, 0.3));\n",
              "      fill: #FFFFFF;\n",
              "    }\n",
              "  </style>\n",
              "\n",
              "      <script>\n",
              "        const buttonEl =\n",
              "          document.querySelector('#df-b40ac076-7b21-40ff-b33d-de24bdb2d352 button.colab-df-convert');\n",
              "        buttonEl.style.display =\n",
              "          google.colab.kernel.accessAllowed ? 'block' : 'none';\n",
              "\n",
              "        async function convertToInteractive(key) {\n",
              "          const element = document.querySelector('#df-b40ac076-7b21-40ff-b33d-de24bdb2d352');\n",
              "          const dataTable =\n",
              "            await google.colab.kernel.invokeFunction('convertToInteractive',\n",
              "                                                     [key], {});\n",
              "          if (!dataTable) return;\n",
              "\n",
              "          const docLinkHtml = 'Like what you see? Visit the ' +\n",
              "            '<a target=\"_blank\" href=https://colab.research.google.com/notebooks/data_table.ipynb>data table notebook</a>'\n",
              "            + ' to learn more about interactive tables.';\n",
              "          element.innerHTML = '';\n",
              "          dataTable['output_type'] = 'display_data';\n",
              "          await google.colab.output.renderOutput(dataTable, element);\n",
              "          const docLink = document.createElement('div');\n",
              "          docLink.innerHTML = docLinkHtml;\n",
              "          element.appendChild(docLink);\n",
              "        }\n",
              "      </script>\n",
              "    </div>\n",
              "  </div>\n",
              "  "
            ]
          },
          "metadata": {},
          "execution_count": 4
        }
      ],
      "source": [
        "#First five rows\n",
        "df.head()\n",
        "# First four rows "
      ]
    },
    {
      "cell_type": "code",
      "execution_count": null,
      "metadata": {
        "id": "pp8ZRvfmHNEh",
        "colab": {
          "base_uri": "https://localhost:8080/",
          "height": 206
        },
        "outputId": "a4e8fbdf-80ee-4ac4-d975-d4ea1f27326f"
      },
      "outputs": [
        {
          "output_type": "execute_result",
          "data": {
            "text/plain": [
              "            id Airline  Flight AirportFrom AirportTo  DayOfWeek    Time  \\\n",
              "276575  276576      XE    2293         IAH       CRP        4.0  1380.0   \n",
              "276576  276577      XE    2956         IAH       AUS        4.0  1380.0   \n",
              "276577  276578      FL      58         LAX       ATL        4.0  1385.0   \n",
              "276578  276579      OO    6439         CWA       EAU        4.0  1385.0   \n",
              "276579  276580      UA     126         LAX       ORD        NaN     NaN   \n",
              "\n",
              "        Length  Delay  \n",
              "276575    55.0    1.0  \n",
              "276576    46.0    1.0  \n",
              "276577   250.0    0.0  \n",
              "276578    38.0    1.0  \n",
              "276579     NaN    NaN  "
            ],
            "text/html": [
              "\n",
              "  <div id=\"df-0d3c0590-032d-4fa0-89a9-3611df6b8070\">\n",
              "    <div class=\"colab-df-container\">\n",
              "      <div>\n",
              "<style scoped>\n",
              "    .dataframe tbody tr th:only-of-type {\n",
              "        vertical-align: middle;\n",
              "    }\n",
              "\n",
              "    .dataframe tbody tr th {\n",
              "        vertical-align: top;\n",
              "    }\n",
              "\n",
              "    .dataframe thead th {\n",
              "        text-align: right;\n",
              "    }\n",
              "</style>\n",
              "<table border=\"1\" class=\"dataframe\">\n",
              "  <thead>\n",
              "    <tr style=\"text-align: right;\">\n",
              "      <th></th>\n",
              "      <th>id</th>\n",
              "      <th>Airline</th>\n",
              "      <th>Flight</th>\n",
              "      <th>AirportFrom</th>\n",
              "      <th>AirportTo</th>\n",
              "      <th>DayOfWeek</th>\n",
              "      <th>Time</th>\n",
              "      <th>Length</th>\n",
              "      <th>Delay</th>\n",
              "    </tr>\n",
              "  </thead>\n",
              "  <tbody>\n",
              "    <tr>\n",
              "      <th>276575</th>\n",
              "      <td>276576</td>\n",
              "      <td>XE</td>\n",
              "      <td>2293</td>\n",
              "      <td>IAH</td>\n",
              "      <td>CRP</td>\n",
              "      <td>4.0</td>\n",
              "      <td>1380.0</td>\n",
              "      <td>55.0</td>\n",
              "      <td>1.0</td>\n",
              "    </tr>\n",
              "    <tr>\n",
              "      <th>276576</th>\n",
              "      <td>276577</td>\n",
              "      <td>XE</td>\n",
              "      <td>2956</td>\n",
              "      <td>IAH</td>\n",
              "      <td>AUS</td>\n",
              "      <td>4.0</td>\n",
              "      <td>1380.0</td>\n",
              "      <td>46.0</td>\n",
              "      <td>1.0</td>\n",
              "    </tr>\n",
              "    <tr>\n",
              "      <th>276577</th>\n",
              "      <td>276578</td>\n",
              "      <td>FL</td>\n",
              "      <td>58</td>\n",
              "      <td>LAX</td>\n",
              "      <td>ATL</td>\n",
              "      <td>4.0</td>\n",
              "      <td>1385.0</td>\n",
              "      <td>250.0</td>\n",
              "      <td>0.0</td>\n",
              "    </tr>\n",
              "    <tr>\n",
              "      <th>276578</th>\n",
              "      <td>276579</td>\n",
              "      <td>OO</td>\n",
              "      <td>6439</td>\n",
              "      <td>CWA</td>\n",
              "      <td>EAU</td>\n",
              "      <td>4.0</td>\n",
              "      <td>1385.0</td>\n",
              "      <td>38.0</td>\n",
              "      <td>1.0</td>\n",
              "    </tr>\n",
              "    <tr>\n",
              "      <th>276579</th>\n",
              "      <td>276580</td>\n",
              "      <td>UA</td>\n",
              "      <td>126</td>\n",
              "      <td>LAX</td>\n",
              "      <td>ORD</td>\n",
              "      <td>NaN</td>\n",
              "      <td>NaN</td>\n",
              "      <td>NaN</td>\n",
              "      <td>NaN</td>\n",
              "    </tr>\n",
              "  </tbody>\n",
              "</table>\n",
              "</div>\n",
              "      <button class=\"colab-df-convert\" onclick=\"convertToInteractive('df-0d3c0590-032d-4fa0-89a9-3611df6b8070')\"\n",
              "              title=\"Convert this dataframe to an interactive table.\"\n",
              "              style=\"display:none;\">\n",
              "        \n",
              "  <svg xmlns=\"http://www.w3.org/2000/svg\" height=\"24px\"viewBox=\"0 0 24 24\"\n",
              "       width=\"24px\">\n",
              "    <path d=\"M0 0h24v24H0V0z\" fill=\"none\"/>\n",
              "    <path d=\"M18.56 5.44l.94 2.06.94-2.06 2.06-.94-2.06-.94-.94-2.06-.94 2.06-2.06.94zm-11 1L8.5 8.5l.94-2.06 2.06-.94-2.06-.94L8.5 2.5l-.94 2.06-2.06.94zm10 10l.94 2.06.94-2.06 2.06-.94-2.06-.94-.94-2.06-.94 2.06-2.06.94z\"/><path d=\"M17.41 7.96l-1.37-1.37c-.4-.4-.92-.59-1.43-.59-.52 0-1.04.2-1.43.59L10.3 9.45l-7.72 7.72c-.78.78-.78 2.05 0 2.83L4 21.41c.39.39.9.59 1.41.59.51 0 1.02-.2 1.41-.59l7.78-7.78 2.81-2.81c.8-.78.8-2.07 0-2.86zM5.41 20L4 18.59l7.72-7.72 1.47 1.35L5.41 20z\"/>\n",
              "  </svg>\n",
              "      </button>\n",
              "      \n",
              "  <style>\n",
              "    .colab-df-container {\n",
              "      display:flex;\n",
              "      flex-wrap:wrap;\n",
              "      gap: 12px;\n",
              "    }\n",
              "\n",
              "    .colab-df-convert {\n",
              "      background-color: #E8F0FE;\n",
              "      border: none;\n",
              "      border-radius: 50%;\n",
              "      cursor: pointer;\n",
              "      display: none;\n",
              "      fill: #1967D2;\n",
              "      height: 32px;\n",
              "      padding: 0 0 0 0;\n",
              "      width: 32px;\n",
              "    }\n",
              "\n",
              "    .colab-df-convert:hover {\n",
              "      background-color: #E2EBFA;\n",
              "      box-shadow: 0px 1px 2px rgba(60, 64, 67, 0.3), 0px 1px 3px 1px rgba(60, 64, 67, 0.15);\n",
              "      fill: #174EA6;\n",
              "    }\n",
              "\n",
              "    [theme=dark] .colab-df-convert {\n",
              "      background-color: #3B4455;\n",
              "      fill: #D2E3FC;\n",
              "    }\n",
              "\n",
              "    [theme=dark] .colab-df-convert:hover {\n",
              "      background-color: #434B5C;\n",
              "      box-shadow: 0px 1px 3px 1px rgba(0, 0, 0, 0.15);\n",
              "      filter: drop-shadow(0px 1px 2px rgba(0, 0, 0, 0.3));\n",
              "      fill: #FFFFFF;\n",
              "    }\n",
              "  </style>\n",
              "\n",
              "      <script>\n",
              "        const buttonEl =\n",
              "          document.querySelector('#df-0d3c0590-032d-4fa0-89a9-3611df6b8070 button.colab-df-convert');\n",
              "        buttonEl.style.display =\n",
              "          google.colab.kernel.accessAllowed ? 'block' : 'none';\n",
              "\n",
              "        async function convertToInteractive(key) {\n",
              "          const element = document.querySelector('#df-0d3c0590-032d-4fa0-89a9-3611df6b8070');\n",
              "          const dataTable =\n",
              "            await google.colab.kernel.invokeFunction('convertToInteractive',\n",
              "                                                     [key], {});\n",
              "          if (!dataTable) return;\n",
              "\n",
              "          const docLinkHtml = 'Like what you see? Visit the ' +\n",
              "            '<a target=\"_blank\" href=https://colab.research.google.com/notebooks/data_table.ipynb>data table notebook</a>'\n",
              "            + ' to learn more about interactive tables.';\n",
              "          element.innerHTML = '';\n",
              "          dataTable['output_type'] = 'display_data';\n",
              "          await google.colab.output.renderOutput(dataTable, element);\n",
              "          const docLink = document.createElement('div');\n",
              "          docLink.innerHTML = docLinkHtml;\n",
              "          element.appendChild(docLink);\n",
              "        }\n",
              "      </script>\n",
              "    </div>\n",
              "  </div>\n",
              "  "
            ]
          },
          "metadata": {},
          "execution_count": 5
        }
      ],
      "source": [
        "#Last five rows\n",
        "df.tail()\n",
        "# Last four rows "
      ]
    },
    {
      "cell_type": "code",
      "source": [
        "# checking the data types\n",
        "df.dtypes\n",
        "# The data comprises of integer and objects "
      ],
      "metadata": {
        "colab": {
          "base_uri": "https://localhost:8080/"
        },
        "id": "KXWXhgd06WRd",
        "outputId": "b42c4a4e-fd24-4abf-e40a-049b08416370"
      },
      "execution_count": null,
      "outputs": [
        {
          "output_type": "execute_result",
          "data": {
            "text/plain": [
              "id               int64\n",
              "Airline         object\n",
              "Flight           int64\n",
              "AirportFrom     object\n",
              "AirportTo       object\n",
              "DayOfWeek      float64\n",
              "Time           float64\n",
              "Length         float64\n",
              "Delay          float64\n",
              "dtype: object"
            ]
          },
          "metadata": {},
          "execution_count": 6
        }
      ]
    },
    {
      "cell_type": "code",
      "source": [
        "# statistical insight \n",
        "df.describe()\n",
        "# A statistical summary of the columns "
      ],
      "metadata": {
        "colab": {
          "base_uri": "https://localhost:8080/",
          "height": 300
        },
        "id": "UlK_98Pf8CBz",
        "outputId": "c0200871-73a0-4b91-b57d-2b0c5121d085"
      },
      "execution_count": null,
      "outputs": [
        {
          "output_type": "execute_result",
          "data": {
            "text/plain": [
              "                  id         Flight      DayOfWeek           Time  \\\n",
              "count  276580.000000  276580.000000  276579.000000  276579.000000   \n",
              "mean   138290.500000    2438.735447       3.879434     802.923855   \n",
              "std     79841.913064    2076.671279       1.871647     275.859273   \n",
              "min         1.000000       1.000000       1.000000      10.000000   \n",
              "25%     69145.750000     729.000000       2.000000     568.000000   \n",
              "50%    138290.500000    1800.000000       4.000000     798.000000   \n",
              "75%    207435.250000    3762.000000       5.000000    1034.000000   \n",
              "max    276580.000000    7813.000000       7.000000    1439.000000   \n",
              "\n",
              "              Length          Delay  \n",
              "count  276579.000000  276579.000000  \n",
              "mean      130.561398       0.384914  \n",
              "std        69.308621       0.486576  \n",
              "min         0.000000       0.000000  \n",
              "25%        80.000000       0.000000  \n",
              "50%       114.000000       0.000000  \n",
              "75%       160.000000       1.000000  \n",
              "max       655.000000       1.000000  "
            ],
            "text/html": [
              "\n",
              "  <div id=\"df-f26c49c2-fddf-4503-96bc-151dd62800ad\">\n",
              "    <div class=\"colab-df-container\">\n",
              "      <div>\n",
              "<style scoped>\n",
              "    .dataframe tbody tr th:only-of-type {\n",
              "        vertical-align: middle;\n",
              "    }\n",
              "\n",
              "    .dataframe tbody tr th {\n",
              "        vertical-align: top;\n",
              "    }\n",
              "\n",
              "    .dataframe thead th {\n",
              "        text-align: right;\n",
              "    }\n",
              "</style>\n",
              "<table border=\"1\" class=\"dataframe\">\n",
              "  <thead>\n",
              "    <tr style=\"text-align: right;\">\n",
              "      <th></th>\n",
              "      <th>id</th>\n",
              "      <th>Flight</th>\n",
              "      <th>DayOfWeek</th>\n",
              "      <th>Time</th>\n",
              "      <th>Length</th>\n",
              "      <th>Delay</th>\n",
              "    </tr>\n",
              "  </thead>\n",
              "  <tbody>\n",
              "    <tr>\n",
              "      <th>count</th>\n",
              "      <td>276580.000000</td>\n",
              "      <td>276580.000000</td>\n",
              "      <td>276579.000000</td>\n",
              "      <td>276579.000000</td>\n",
              "      <td>276579.000000</td>\n",
              "      <td>276579.000000</td>\n",
              "    </tr>\n",
              "    <tr>\n",
              "      <th>mean</th>\n",
              "      <td>138290.500000</td>\n",
              "      <td>2438.735447</td>\n",
              "      <td>3.879434</td>\n",
              "      <td>802.923855</td>\n",
              "      <td>130.561398</td>\n",
              "      <td>0.384914</td>\n",
              "    </tr>\n",
              "    <tr>\n",
              "      <th>std</th>\n",
              "      <td>79841.913064</td>\n",
              "      <td>2076.671279</td>\n",
              "      <td>1.871647</td>\n",
              "      <td>275.859273</td>\n",
              "      <td>69.308621</td>\n",
              "      <td>0.486576</td>\n",
              "    </tr>\n",
              "    <tr>\n",
              "      <th>min</th>\n",
              "      <td>1.000000</td>\n",
              "      <td>1.000000</td>\n",
              "      <td>1.000000</td>\n",
              "      <td>10.000000</td>\n",
              "      <td>0.000000</td>\n",
              "      <td>0.000000</td>\n",
              "    </tr>\n",
              "    <tr>\n",
              "      <th>25%</th>\n",
              "      <td>69145.750000</td>\n",
              "      <td>729.000000</td>\n",
              "      <td>2.000000</td>\n",
              "      <td>568.000000</td>\n",
              "      <td>80.000000</td>\n",
              "      <td>0.000000</td>\n",
              "    </tr>\n",
              "    <tr>\n",
              "      <th>50%</th>\n",
              "      <td>138290.500000</td>\n",
              "      <td>1800.000000</td>\n",
              "      <td>4.000000</td>\n",
              "      <td>798.000000</td>\n",
              "      <td>114.000000</td>\n",
              "      <td>0.000000</td>\n",
              "    </tr>\n",
              "    <tr>\n",
              "      <th>75%</th>\n",
              "      <td>207435.250000</td>\n",
              "      <td>3762.000000</td>\n",
              "      <td>5.000000</td>\n",
              "      <td>1034.000000</td>\n",
              "      <td>160.000000</td>\n",
              "      <td>1.000000</td>\n",
              "    </tr>\n",
              "    <tr>\n",
              "      <th>max</th>\n",
              "      <td>276580.000000</td>\n",
              "      <td>7813.000000</td>\n",
              "      <td>7.000000</td>\n",
              "      <td>1439.000000</td>\n",
              "      <td>655.000000</td>\n",
              "      <td>1.000000</td>\n",
              "    </tr>\n",
              "  </tbody>\n",
              "</table>\n",
              "</div>\n",
              "      <button class=\"colab-df-convert\" onclick=\"convertToInteractive('df-f26c49c2-fddf-4503-96bc-151dd62800ad')\"\n",
              "              title=\"Convert this dataframe to an interactive table.\"\n",
              "              style=\"display:none;\">\n",
              "        \n",
              "  <svg xmlns=\"http://www.w3.org/2000/svg\" height=\"24px\"viewBox=\"0 0 24 24\"\n",
              "       width=\"24px\">\n",
              "    <path d=\"M0 0h24v24H0V0z\" fill=\"none\"/>\n",
              "    <path d=\"M18.56 5.44l.94 2.06.94-2.06 2.06-.94-2.06-.94-.94-2.06-.94 2.06-2.06.94zm-11 1L8.5 8.5l.94-2.06 2.06-.94-2.06-.94L8.5 2.5l-.94 2.06-2.06.94zm10 10l.94 2.06.94-2.06 2.06-.94-2.06-.94-.94-2.06-.94 2.06-2.06.94z\"/><path d=\"M17.41 7.96l-1.37-1.37c-.4-.4-.92-.59-1.43-.59-.52 0-1.04.2-1.43.59L10.3 9.45l-7.72 7.72c-.78.78-.78 2.05 0 2.83L4 21.41c.39.39.9.59 1.41.59.51 0 1.02-.2 1.41-.59l7.78-7.78 2.81-2.81c.8-.78.8-2.07 0-2.86zM5.41 20L4 18.59l7.72-7.72 1.47 1.35L5.41 20z\"/>\n",
              "  </svg>\n",
              "      </button>\n",
              "      \n",
              "  <style>\n",
              "    .colab-df-container {\n",
              "      display:flex;\n",
              "      flex-wrap:wrap;\n",
              "      gap: 12px;\n",
              "    }\n",
              "\n",
              "    .colab-df-convert {\n",
              "      background-color: #E8F0FE;\n",
              "      border: none;\n",
              "      border-radius: 50%;\n",
              "      cursor: pointer;\n",
              "      display: none;\n",
              "      fill: #1967D2;\n",
              "      height: 32px;\n",
              "      padding: 0 0 0 0;\n",
              "      width: 32px;\n",
              "    }\n",
              "\n",
              "    .colab-df-convert:hover {\n",
              "      background-color: #E2EBFA;\n",
              "      box-shadow: 0px 1px 2px rgba(60, 64, 67, 0.3), 0px 1px 3px 1px rgba(60, 64, 67, 0.15);\n",
              "      fill: #174EA6;\n",
              "    }\n",
              "\n",
              "    [theme=dark] .colab-df-convert {\n",
              "      background-color: #3B4455;\n",
              "      fill: #D2E3FC;\n",
              "    }\n",
              "\n",
              "    [theme=dark] .colab-df-convert:hover {\n",
              "      background-color: #434B5C;\n",
              "      box-shadow: 0px 1px 3px 1px rgba(0, 0, 0, 0.15);\n",
              "      filter: drop-shadow(0px 1px 2px rgba(0, 0, 0, 0.3));\n",
              "      fill: #FFFFFF;\n",
              "    }\n",
              "  </style>\n",
              "\n",
              "      <script>\n",
              "        const buttonEl =\n",
              "          document.querySelector('#df-f26c49c2-fddf-4503-96bc-151dd62800ad button.colab-df-convert');\n",
              "        buttonEl.style.display =\n",
              "          google.colab.kernel.accessAllowed ? 'block' : 'none';\n",
              "\n",
              "        async function convertToInteractive(key) {\n",
              "          const element = document.querySelector('#df-f26c49c2-fddf-4503-96bc-151dd62800ad');\n",
              "          const dataTable =\n",
              "            await google.colab.kernel.invokeFunction('convertToInteractive',\n",
              "                                                     [key], {});\n",
              "          if (!dataTable) return;\n",
              "\n",
              "          const docLinkHtml = 'Like what you see? Visit the ' +\n",
              "            '<a target=\"_blank\" href=https://colab.research.google.com/notebooks/data_table.ipynb>data table notebook</a>'\n",
              "            + ' to learn more about interactive tables.';\n",
              "          element.innerHTML = '';\n",
              "          dataTable['output_type'] = 'display_data';\n",
              "          await google.colab.output.renderOutput(dataTable, element);\n",
              "          const docLink = document.createElement('div');\n",
              "          docLink.innerHTML = docLinkHtml;\n",
              "          element.appendChild(docLink);\n",
              "        }\n",
              "      </script>\n",
              "    </div>\n",
              "  </div>\n",
              "  "
            ]
          },
          "metadata": {},
          "execution_count": 7
        }
      ]
    },
    {
      "cell_type": "markdown",
      "metadata": {
        "id": "_NUudLpsHqMj"
      },
      "source": [
        "## **Data Preparation and Cleaning**"
      ]
    },
    {
      "cell_type": "markdown",
      "metadata": {
        "id": "ptyScv5EII6Q"
      },
      "source": [
        "**1. Validity check**"
      ]
    },
    {
      "cell_type": "code",
      "execution_count": null,
      "metadata": {
        "id": "UoMP3gNXHNAo",
        "colab": {
          "base_uri": "https://localhost:8080/"
        },
        "outputId": "53b470f1-f6de-45eb-bf54-01d7ad31ec84"
      },
      "outputs": [
        {
          "output_type": "execute_result",
          "data": {
            "text/plain": [
              "['id',\n",
              " 'Airline',\n",
              " 'Flight',\n",
              " 'AirportFrom',\n",
              " 'AirportTo',\n",
              " 'DayOfWeek',\n",
              " 'Time',\n",
              " 'Length',\n",
              " 'Delay']"
            ]
          },
          "metadata": {},
          "execution_count": 8
        }
      ],
      "source": [
        "#check how te columns look like\n",
        "df.columns.values.tolist()"
      ]
    },
    {
      "cell_type": "markdown",
      "metadata": {
        "id": "Z2_5RURvIM4P"
      },
      "source": [
        "**2. Accuracy check**"
      ]
    },
    {
      "cell_type": "code",
      "execution_count": null,
      "metadata": {
        "id": "BFToTnWnHM8w",
        "colab": {
          "base_uri": "https://localhost:8080/"
        },
        "outputId": "1c2fe299-739c-4765-b05e-682fcfb2c33f"
      },
      "outputs": [
        {
          "output_type": "stream",
          "name": "stdout",
          "text": [
            "<class 'pandas.core.frame.DataFrame'>\n",
            "RangeIndex: 276580 entries, 0 to 276579\n",
            "Data columns (total 9 columns):\n",
            " #   Column       Non-Null Count   Dtype  \n",
            "---  ------       --------------   -----  \n",
            " 0   id           276580 non-null  int64  \n",
            " 1   Airline      276580 non-null  object \n",
            " 2   Flight       276580 non-null  int64  \n",
            " 3   AirportFrom  276580 non-null  object \n",
            " 4   AirportTo    276580 non-null  object \n",
            " 5   DayOfWeek    276579 non-null  float64\n",
            " 6   Time         276579 non-null  float64\n",
            " 7   Length       276579 non-null  float64\n",
            " 8   Delay        276579 non-null  float64\n",
            "dtypes: float64(4), int64(2), object(3)\n",
            "memory usage: 19.0+ MB\n"
          ]
        }
      ],
      "source": [
        "# more information about our dataset\n",
        "df.info()"
      ]
    },
    {
      "cell_type": "markdown",
      "metadata": {
        "id": "3lNCcWuKISqw"
      },
      "source": [
        "**3. Completeness check**"
      ]
    },
    {
      "cell_type": "code",
      "execution_count": null,
      "metadata": {
        "id": "FBBPvJZ4HM4n",
        "colab": {
          "base_uri": "https://localhost:8080/"
        },
        "outputId": "3466063d-cbec-461d-a441-2b95042a0fbc"
      },
      "outputs": [
        {
          "output_type": "execute_result",
          "data": {
            "text/plain": [
              "4"
            ]
          },
          "metadata": {},
          "execution_count": 10
        }
      ],
      "source": [
        "#Check for null values\n",
        "df.isnull().sum().sum()"
      ]
    },
    {
      "cell_type": "markdown",
      "source": [
        "We have no null values"
      ],
      "metadata": {
        "id": "J9wW9-g99dvO"
      }
    },
    {
      "cell_type": "markdown",
      "metadata": {
        "id": "jhSKl9ARIb-F"
      },
      "source": [
        "**4. Consistency check**"
      ]
    },
    {
      "cell_type": "code",
      "execution_count": null,
      "metadata": {
        "id": "d1-eOCWTHMxU",
        "colab": {
          "base_uri": "https://localhost:8080/"
        },
        "outputId": "1380e671-4604-4e52-cd13-0adde8f23189"
      },
      "outputs": [
        {
          "output_type": "execute_result",
          "data": {
            "text/plain": [
              "0"
            ]
          },
          "metadata": {},
          "execution_count": 11
        }
      ],
      "source": [
        "#We check if we have any duplicates\n",
        "df.duplicated().sum()"
      ]
    },
    {
      "cell_type": "markdown",
      "source": [
        "We have no duplicates"
      ],
      "metadata": {
        "id": "5v5c_1bC9aOA"
      }
    },
    {
      "cell_type": "markdown",
      "metadata": {
        "id": "j6nvdcbmIh6n"
      },
      "source": [
        "**5. Uniformity check**"
      ]
    },
    {
      "cell_type": "code",
      "execution_count": null,
      "metadata": {
        "id": "d1MWD3DEHMtG",
        "colab": {
          "base_uri": "https://localhost:8080/"
        },
        "outputId": "5bd669bb-688e-4a44-fb32-264e81af529f"
      },
      "outputs": [
        {
          "output_type": "execute_result",
          "data": {
            "text/plain": [
              "['id',\n",
              " 'Airline',\n",
              " 'Flight',\n",
              " 'AirportFrom',\n",
              " 'AirportTo',\n",
              " 'DayOfWeek',\n",
              " 'Time',\n",
              " 'Length',\n",
              " 'Delay']"
            ]
          },
          "metadata": {},
          "execution_count": 12
        }
      ],
      "source": [
        "#view our columns\n",
        "df.columns.values.tolist()"
      ]
    },
    {
      "cell_type": "code",
      "execution_count": null,
      "metadata": {
        "id": "sPi_npWkPaq5",
        "colab": {
          "base_uri": "https://localhost:8080/",
          "height": 112
        },
        "outputId": "569f8e4c-4b55-4ac2-c4bc-39465b8c46f8"
      },
      "outputs": [
        {
          "output_type": "execute_result",
          "data": {
            "text/plain": [
              "  Airline  Flight AirportFrom AirportTo  DayOfWeek  Time  Length  Delay\n",
              "0      CO     269         SFO       IAH        3.0  15.0   205.0    1.0\n",
              "1      US    1558         PHX       CLT        3.0  15.0   222.0    1.0"
            ],
            "text/html": [
              "\n",
              "  <div id=\"df-358dc243-f174-4181-b5f4-1119d84c41ce\">\n",
              "    <div class=\"colab-df-container\">\n",
              "      <div>\n",
              "<style scoped>\n",
              "    .dataframe tbody tr th:only-of-type {\n",
              "        vertical-align: middle;\n",
              "    }\n",
              "\n",
              "    .dataframe tbody tr th {\n",
              "        vertical-align: top;\n",
              "    }\n",
              "\n",
              "    .dataframe thead th {\n",
              "        text-align: right;\n",
              "    }\n",
              "</style>\n",
              "<table border=\"1\" class=\"dataframe\">\n",
              "  <thead>\n",
              "    <tr style=\"text-align: right;\">\n",
              "      <th></th>\n",
              "      <th>Airline</th>\n",
              "      <th>Flight</th>\n",
              "      <th>AirportFrom</th>\n",
              "      <th>AirportTo</th>\n",
              "      <th>DayOfWeek</th>\n",
              "      <th>Time</th>\n",
              "      <th>Length</th>\n",
              "      <th>Delay</th>\n",
              "    </tr>\n",
              "  </thead>\n",
              "  <tbody>\n",
              "    <tr>\n",
              "      <th>0</th>\n",
              "      <td>CO</td>\n",
              "      <td>269</td>\n",
              "      <td>SFO</td>\n",
              "      <td>IAH</td>\n",
              "      <td>3.0</td>\n",
              "      <td>15.0</td>\n",
              "      <td>205.0</td>\n",
              "      <td>1.0</td>\n",
              "    </tr>\n",
              "    <tr>\n",
              "      <th>1</th>\n",
              "      <td>US</td>\n",
              "      <td>1558</td>\n",
              "      <td>PHX</td>\n",
              "      <td>CLT</td>\n",
              "      <td>3.0</td>\n",
              "      <td>15.0</td>\n",
              "      <td>222.0</td>\n",
              "      <td>1.0</td>\n",
              "    </tr>\n",
              "  </tbody>\n",
              "</table>\n",
              "</div>\n",
              "      <button class=\"colab-df-convert\" onclick=\"convertToInteractive('df-358dc243-f174-4181-b5f4-1119d84c41ce')\"\n",
              "              title=\"Convert this dataframe to an interactive table.\"\n",
              "              style=\"display:none;\">\n",
              "        \n",
              "  <svg xmlns=\"http://www.w3.org/2000/svg\" height=\"24px\"viewBox=\"0 0 24 24\"\n",
              "       width=\"24px\">\n",
              "    <path d=\"M0 0h24v24H0V0z\" fill=\"none\"/>\n",
              "    <path d=\"M18.56 5.44l.94 2.06.94-2.06 2.06-.94-2.06-.94-.94-2.06-.94 2.06-2.06.94zm-11 1L8.5 8.5l.94-2.06 2.06-.94-2.06-.94L8.5 2.5l-.94 2.06-2.06.94zm10 10l.94 2.06.94-2.06 2.06-.94-2.06-.94-.94-2.06-.94 2.06-2.06.94z\"/><path d=\"M17.41 7.96l-1.37-1.37c-.4-.4-.92-.59-1.43-.59-.52 0-1.04.2-1.43.59L10.3 9.45l-7.72 7.72c-.78.78-.78 2.05 0 2.83L4 21.41c.39.39.9.59 1.41.59.51 0 1.02-.2 1.41-.59l7.78-7.78 2.81-2.81c.8-.78.8-2.07 0-2.86zM5.41 20L4 18.59l7.72-7.72 1.47 1.35L5.41 20z\"/>\n",
              "  </svg>\n",
              "      </button>\n",
              "      \n",
              "  <style>\n",
              "    .colab-df-container {\n",
              "      display:flex;\n",
              "      flex-wrap:wrap;\n",
              "      gap: 12px;\n",
              "    }\n",
              "\n",
              "    .colab-df-convert {\n",
              "      background-color: #E8F0FE;\n",
              "      border: none;\n",
              "      border-radius: 50%;\n",
              "      cursor: pointer;\n",
              "      display: none;\n",
              "      fill: #1967D2;\n",
              "      height: 32px;\n",
              "      padding: 0 0 0 0;\n",
              "      width: 32px;\n",
              "    }\n",
              "\n",
              "    .colab-df-convert:hover {\n",
              "      background-color: #E2EBFA;\n",
              "      box-shadow: 0px 1px 2px rgba(60, 64, 67, 0.3), 0px 1px 3px 1px rgba(60, 64, 67, 0.15);\n",
              "      fill: #174EA6;\n",
              "    }\n",
              "\n",
              "    [theme=dark] .colab-df-convert {\n",
              "      background-color: #3B4455;\n",
              "      fill: #D2E3FC;\n",
              "    }\n",
              "\n",
              "    [theme=dark] .colab-df-convert:hover {\n",
              "      background-color: #434B5C;\n",
              "      box-shadow: 0px 1px 3px 1px rgba(0, 0, 0, 0.15);\n",
              "      filter: drop-shadow(0px 1px 2px rgba(0, 0, 0, 0.3));\n",
              "      fill: #FFFFFF;\n",
              "    }\n",
              "  </style>\n",
              "\n",
              "      <script>\n",
              "        const buttonEl =\n",
              "          document.querySelector('#df-358dc243-f174-4181-b5f4-1119d84c41ce button.colab-df-convert');\n",
              "        buttonEl.style.display =\n",
              "          google.colab.kernel.accessAllowed ? 'block' : 'none';\n",
              "\n",
              "        async function convertToInteractive(key) {\n",
              "          const element = document.querySelector('#df-358dc243-f174-4181-b5f4-1119d84c41ce');\n",
              "          const dataTable =\n",
              "            await google.colab.kernel.invokeFunction('convertToInteractive',\n",
              "                                                     [key], {});\n",
              "          if (!dataTable) return;\n",
              "\n",
              "          const docLinkHtml = 'Like what you see? Visit the ' +\n",
              "            '<a target=\"_blank\" href=https://colab.research.google.com/notebooks/data_table.ipynb>data table notebook</a>'\n",
              "            + ' to learn more about interactive tables.';\n",
              "          element.innerHTML = '';\n",
              "          dataTable['output_type'] = 'display_data';\n",
              "          await google.colab.output.renderOutput(dataTable, element);\n",
              "          const docLink = document.createElement('div');\n",
              "          docLink.innerHTML = docLinkHtml;\n",
              "          element.appendChild(docLink);\n",
              "        }\n",
              "      </script>\n",
              "    </div>\n",
              "  </div>\n",
              "  "
            ]
          },
          "metadata": {},
          "execution_count": 13
        }
      ],
      "source": [
        "#We don't need the Id column so we drop it\n",
        "df1 = df.drop(['id'], axis=1)\n",
        "df1.head(2)"
      ]
    },
    {
      "cell_type": "code",
      "source": [
        "# Checking outliers\n",
        "\n",
        "q1 = df.quantile(0.25)\n",
        "q3 = df.quantile(0.75)\n",
        "iqr = q3 - q1\n",
        "outliers = df[((df < (q1 - 1.5*iqr))|(df > (q3 + 1.5*iqr)))]\n",
        "outliers.count()\n",
        "\n",
        "# There are no outliers in all the other columns other than the length column.\n",
        "# We will however not drop these outliers since it is possible to have delays that are too long."
      ],
      "metadata": {
        "colab": {
          "base_uri": "https://localhost:8080/"
        },
        "id": "u3JhOqXv817u",
        "outputId": "24ecdd75-352a-495c-84e9-ffc578b51b52"
      },
      "execution_count": null,
      "outputs": [
        {
          "output_type": "execute_result",
          "data": {
            "text/plain": [
              "id                 0\n",
              "Airline            0\n",
              "Flight             0\n",
              "AirportFrom        0\n",
              "AirportTo          0\n",
              "DayOfWeek          0\n",
              "Time               0\n",
              "Length         12876\n",
              "Delay              0\n",
              "dtype: int64"
            ]
          },
          "metadata": {},
          "execution_count": 14
        }
      ]
    },
    {
      "cell_type": "code",
      "source": [
        "# Plot showing outliers in delay \n",
        " \n",
        "fig = plt.figure(figsize=(12,4))\n",
        "sns.boxplot(x = 'Length', color= 'Teal', data = df)\n",
        "plt.title('A boxplot of Length')\n",
        "plt.show()"
      ],
      "metadata": {
        "id": "x7ZsZAdM4jZ4",
        "colab": {
          "base_uri": "https://localhost:8080/",
          "height": 295
        },
        "outputId": "081fafe6-7bfc-4e4f-e393-e0397f113bac"
      },
      "execution_count": null,
      "outputs": [
        {
          "output_type": "display_data",
          "data": {
            "text/plain": [
              "<Figure size 864x288 with 1 Axes>"
            ],
            "image/png": "[encoded data removed]"
          },
          "metadata": {
            "needs_background": "light"
          }
        }
      ]
    },
    {
      "cell_type": "code",
      "source": [
        "#Viewing outliers in length for delay\n",
        "fig = plt.figure(figsize=(5,8))\n",
        "sns.boxplot(x = 'Delay', y = 'Length', palette = \"cividis\", data = df1)\n",
        "plt.title('A boxplot of Length and Delay ')\n",
        "plt.show()"
      ],
      "metadata": {
        "id": "8ierp6FK7vtz",
        "colab": {
          "base_uri": "https://localhost:8080/",
          "height": 513
        },
        "outputId": "a43fe30d-2299-483a-9c8c-351a614fa678"
      },
      "execution_count": null,
      "outputs": [
        {
          "output_type": "display_data",
          "data": {
            "text/plain": [
              "<Figure size 360x576 with 1 Axes>"
            ],
            "image/png": "[encoded data removed]"
          },
          "metadata": {
            "needs_background": "light"
          }
        }
      ]
    },
    {
      "cell_type": "markdown",
      "source": [
        "We have both delay and non delays having outliers due to various causes of delays like; Security reasons, Weather, Technical reasons- airplane parts etc, Flight crew delays. "
      ],
      "metadata": {
        "id": "Ua3hcm-b8IaA"
      }
    },
    {
      "cell_type": "code",
      "source": [
        "#Checking if there are flights making more trips than others\n",
        "df1['Flight'].value_counts()"
      ],
      "metadata": {
        "id": "VbJg40qH49U8",
        "colab": {
          "base_uri": "https://localhost:8080/"
        },
        "outputId": "10d2e77c-94fc-4817-a091-141533849954"
      },
      "execution_count": null,
      "outputs": [
        {
          "output_type": "execute_result",
          "data": {
            "text/plain": [
              "16      230\n",
              "5       219\n",
              "8       217\n",
              "9       210\n",
              "62      200\n",
              "       ... \n",
              "7219      1\n",
              "4422      1\n",
              "3155      1\n",
              "4424      1\n",
              "6894      1\n",
              "Name: Flight, Length: 6402, dtype: int64"
            ]
          },
          "metadata": {},
          "execution_count": 17
        }
      ]
    },
    {
      "cell_type": "markdown",
      "source": [
        "Flight 16 makes the most trips while Flights like 6969 which only made one trip"
      ],
      "metadata": {
        "id": "6S3QMYfn9Nas"
      }
    },
    {
      "cell_type": "markdown",
      "metadata": {
        "id": "0EZjLv7-Iq5J"
      },
      "source": [
        "## **EXPLORATORY DATA ANALYSIS**"
      ]
    },
    {
      "cell_type": "markdown",
      "metadata": {
        "id": "Kz_NRyYKIt58"
      },
      "source": [
        "### **1. Univariate Analysis**"
      ]
    },
    {
      "cell_type": "code",
      "execution_count": null,
      "metadata": {
        "id": "WRVrDh3yS2t-",
        "colab": {
          "base_uri": "https://localhost:8080/",
          "height": 296
        },
        "outputId": "5adab0b5-6f1c-45d6-dd9e-50fd66807809"
      },
      "outputs": [
        {
          "output_type": "execute_result",
          "data": {
            "text/plain": [
              "<matplotlib.axes._subplots.AxesSubplot at 0x7f6fc18f2c50>"
            ]
          },
          "metadata": {},
          "execution_count": 18
        },
        {
          "output_type": "display_data",
          "data": {
            "text/plain": [
              "<Figure size 432x288 with 1 Axes>"
            ],
            "image/png": "[encoded data removed]"
          },
          "metadata": {
            "needs_background": "light"
          }
        }
      ],
      "source": [
        "#Airline counts visual\n",
        "sns.countplot(x='Airline',data=df1, palette='hls')"
      ]
    },
    {
      "cell_type": "markdown",
      "source": [
        "WN(Westjet Airline) airline had the most trips made while HA(Hawaiian Airlines) had the least."
      ],
      "metadata": {
        "id": "amxSLRLo9zOK"
      }
    },
    {
      "cell_type": "code",
      "execution_count": null,
      "metadata": {
        "id": "-rbRi7kJIsk6",
        "colab": {
          "base_uri": "https://localhost:8080/",
          "height": 296
        },
        "outputId": "c0c83384-720a-44d5-8f46-997e3a9400ef"
      },
      "outputs": [
        {
          "output_type": "execute_result",
          "data": {
            "text/plain": [
              "<matplotlib.axes._subplots.AxesSubplot at 0x7f6fc17d4090>"
            ]
          },
          "metadata": {},
          "execution_count": 19
        },
        {
          "output_type": "display_data",
          "data": {
            "text/plain": [
              "<Figure size 432x288 with 1 Axes>"
            ],
            "image/png": "[encoded data removed]"
          },
          "metadata": {
            "needs_background": "light"
          }
        }
      ],
      "source": [
        "#Class label counts visual\n",
        "sns.countplot(x='Delay',data=df1, palette='hls')"
      ]
    },
    {
      "cell_type": "markdown",
      "metadata": {
        "id": "0af5A_zZQv9J"
      },
      "source": [
        "This also implies that this will be a binary classification problem where a **“0”** means that the flight arrives on time, and **“1”** that the flight will be delayed.\n",
        "\n",
        "We can also see more flights were on time compared to those delayed"
      ]
    },
    {
      "cell_type": "code",
      "execution_count": null,
      "metadata": {
        "id": "yyAdwXAJQ8Tb",
        "colab": {
          "base_uri": "https://localhost:8080/",
          "height": 296
        },
        "outputId": "97c7f1ea-f2fa-44ab-d162-6d87d4065d31"
      },
      "outputs": [
        {
          "output_type": "execute_result",
          "data": {
            "text/plain": [
              "<matplotlib.axes._subplots.AxesSubplot at 0x7f6fc17af510>"
            ]
          },
          "metadata": {},
          "execution_count": 20
        },
        {
          "output_type": "display_data",
          "data": {
            "text/plain": [
              "<Figure size 432x288 with 1 Axes>"
            ],
            "image/png": "[encoded data removed]"
          },
          "metadata": {
            "needs_background": "light"
          }
        }
      ],
      "source": [
        "#Day of week counts visual\n",
        "sns.countplot(x='DayOfWeek',data=df1, palette='hls')"
      ]
    },
    {
      "cell_type": "markdown",
      "metadata": {
        "id": "vhdpK3mIRdUm"
      },
      "source": [
        "There were more flights on the fourth day of the week and least on the sixth day of the week"
      ]
    },
    {
      "cell_type": "code",
      "execution_count": null,
      "metadata": {
        "id": "90qex38lQ8K2",
        "colab": {
          "base_uri": "https://localhost:8080/",
          "height": 337
        },
        "outputId": "f1713731-0320-40fd-ebdc-6087b8efc9cf"
      },
      "outputs": [
        {
          "output_type": "execute_result",
          "data": {
            "text/plain": [
              "<matplotlib.axes._subplots.AxesSubplot at 0x7f6fc1736150>"
            ]
          },
          "metadata": {},
          "execution_count": 21
        },
        {
          "output_type": "display_data",
          "data": {
            "text/plain": [
              "<Figure size 720x360 with 1 Axes>"
            ],
            "image/png": "[encoded data removed]"
          },
          "metadata": {
            "needs_background": "light"
          }
        }
      ],
      "source": [
        "#Time Distribution plot\n",
        "df1['Time'].hist(bins = 30, figsize = (10,5), color = 'blue')"
      ]
    },
    {
      "cell_type": "markdown",
      "source": [
        "The time is set in 24hr format and most trip occured between 0400hr to 1200hrs"
      ],
      "metadata": {
        "id": "31dtmOAD-fJd"
      }
    },
    {
      "cell_type": "code",
      "execution_count": null,
      "metadata": {
        "id": "uwO1FbhzSrNY",
        "colab": {
          "base_uri": "https://localhost:8080/",
          "height": 337
        },
        "outputId": "02670f74-c617-466d-d7ec-6acdd0bb11e1"
      },
      "outputs": [
        {
          "output_type": "execute_result",
          "data": {
            "text/plain": [
              "<matplotlib.axes._subplots.AxesSubplot at 0x7f6fc160cad0>"
            ]
          },
          "metadata": {},
          "execution_count": 22
        },
        {
          "output_type": "display_data",
          "data": {
            "text/plain": [
              "<Figure size 720x360 with 1 Axes>"
            ],
            "image/png": "[encoded data removed]"
          },
          "metadata": {
            "needs_background": "light"
          }
        }
      ],
      "source": [
        "#Length Distribution plot\n",
        "df1['Length'].hist(bins = 30, figsize = (10,5), color = 'blue')"
      ]
    },
    {
      "cell_type": "markdown",
      "source": [
        "Most delay time length was between 50min to 200minutes"
      ],
      "metadata": {
        "id": "y6psqilSB4nm"
      }
    },
    {
      "cell_type": "markdown",
      "metadata": {
        "id": "Xq-NLzZCIyhL"
      },
      "source": [
        "### **2. Bivariate Analysis**"
      ]
    },
    {
      "cell_type": "code",
      "execution_count": null,
      "metadata": {
        "id": "06sLnMxWI1ri",
        "colab": {
          "base_uri": "https://localhost:8080/",
          "height": 565
        },
        "outputId": "2f44b01c-5956-4fbc-bba4-5a6a23bddede"
      },
      "outputs": [
        {
          "output_type": "display_data",
          "data": {
            "text/plain": [
              "<Figure size 720x576 with 1 Axes>"
            ],
            "image/png": "[encoded data removed]"
          },
          "metadata": {
            "needs_background": "light"
          }
        }
      ],
      "source": [
        "#Total number of flights from a specific airport\n",
        "plt.figure(figsize=(10, 8))\n",
        "sns.set(font_scale=1.6)\n",
        "axis = sns.countplot(x=df1['AirportFrom'], data=df1, order=df1['AirportFrom'].value_counts().iloc[0:20].index, orient=\"v\")\n",
        "axis.set_xticklabels(axis.get_xticklabels(), rotation=90, ha='right')\n",
        "plt.title('TOTAL NUMBER OF Air port From', fontsize=24)\n",
        "plt.xlabel('Air Port From', fontsize=18)\n",
        "plt.ylabel('NUMBER OF FLIGHTS', fontsize=18)\n",
        "plt.tight_layout()\n",
        "plt.show()"
      ]
    },
    {
      "cell_type": "markdown",
      "source": [
        "There were more flights from ATL (Hartsfield-Jackson Atlanta International Airport - Georgia\n",
        ") airport"
      ],
      "metadata": {
        "id": "ERXpaPUjDJxW"
      }
    },
    {
      "cell_type": "code",
      "execution_count": null,
      "metadata": {
        "id": "3ecgjuAvUDoY",
        "colab": {
          "base_uri": "https://localhost:8080/",
          "height": 565
        },
        "outputId": "ae2e76e9-b298-48a1-e5ed-6f901cf49da2"
      },
      "outputs": [
        {
          "output_type": "display_data",
          "data": {
            "text/plain": [
              "<Figure size 720x576 with 1 Axes>"
            ],
            "image/png": "[encoded data removed]"
          },
          "metadata": {}
        }
      ],
      "source": [
        "#Count of air port to by varies flights\n",
        "plt.figure(figsize=(10, 8))\n",
        "sns.set(font_scale=1.6)\n",
        "axis = sns.countplot(x=df1['AirportTo'], data=df1, order=df1['AirportTo'].value_counts().iloc[0:20].index, orient=\"v\")\n",
        "axis.set_xticklabels(axis.get_xticklabels(), rotation=90, ha='right')\n",
        "plt.title('TOTAL NUMBER OF Air port To', fontsize=24)\n",
        "plt.xlabel('Air Port To', fontsize=18)\n",
        "plt.ylabel('NUMBER OF FLIGHTS', fontsize=18)\n",
        "plt.tight_layout()\n",
        "plt.show()"
      ]
    },
    {
      "cell_type": "markdown",
      "source": [
        "There were more flights to ATL (Hartsfield-Jackson Atlanta International Airport - Georgia ) airport. This expected since the busy the departure so is the arrivals"
      ],
      "metadata": {
        "id": "BeGjOIIKDaXL"
      }
    },
    {
      "cell_type": "code",
      "source": [
        "#Airport From with the least traffic\n",
        "plt.figure(figsize=(10, 8))\n",
        "sns.set(font_scale=1.6)\n",
        "axis = sns.countplot(x=df1['AirportFrom'], data=df1, order=df1['AirportFrom'].value_counts().tail(30).index, orient=\"v\")\n",
        "axis.set_xticklabels(axis.get_xticklabels(), rotation=90, ha='right')\n",
        "plt.title('TOTAL NUMBER OF Air port From', fontsize=24)\n",
        "plt.xlabel('Air Port From', fontsize=18)\n",
        "plt.ylabel('NUMBER OF FLIGHTS', fontsize=18)\n",
        "plt.tight_layout()\n",
        "plt.show()"
      ],
      "metadata": {
        "id": "1z58bvFIFrF0",
        "colab": {
          "base_uri": "https://localhost:8080/",
          "height": 565
        },
        "outputId": "9d3fed06-a711-4f69-bd43-f5f9d02af03f"
      },
      "execution_count": null,
      "outputs": [
        {
          "output_type": "display_data",
          "data": {
            "text/plain": [
              "<Figure size 720x576 with 1 Axes>"
            ],
            "image/png": "[encoded data removed]"
          },
          "metadata": {}
        }
      ]
    },
    {
      "cell_type": "code",
      "source": [
        "#Airport To with the least traffic\n",
        "plt.figure(figsize=(10, 8))\n",
        "sns.set(font_scale=1.6)\n",
        "axis = sns.countplot(x=df1['AirportTo'], data=df1, order=df1['AirportTo'].value_counts().tail(30).index, orient=\"v\")\n",
        "axis.set_xticklabels(axis.get_xticklabels(), rotation=90, ha='right')\n",
        "plt.title('TOTAL NUMBER OF Air port To', fontsize=24)\n",
        "plt.xlabel('Air Port To', fontsize=18)\n",
        "plt.ylabel('NUMBER OF FLIGHTS', fontsize=18)\n",
        "plt.tight_layout()\n",
        "plt.show()"
      ],
      "metadata": {
        "id": "ZAGxFFXqF7wh",
        "colab": {
          "base_uri": "https://localhost:8080/",
          "height": 565
        },
        "outputId": "7199fb09-fb7f-4922-f48a-f71e54961ae0"
      },
      "execution_count": null,
      "outputs": [
        {
          "output_type": "display_data",
          "data": {
            "text/plain": [
              "<Figure size 720x576 with 1 Axes>"
            ],
            "image/png": "[encoded data removed]"
          },
          "metadata": {}
        }
      ]
    },
    {
      "cell_type": "markdown",
      "source": [
        "ABR(Aberdeen Regional Airport), ADK(Adak Airport) and GUM(Antonio B. Won Pat International Airport) were the airpot with the least traffic (number of flights in and out). This is expected since there location is most scarcely populated area ie SOuth Dakota, Guam and ALaska"
      ],
      "metadata": {
        "id": "pGa1on3WGNE4"
      }
    },
    {
      "cell_type": "markdown",
      "metadata": {
        "id": "byOES5i1KTlW"
      },
      "source": [
        "## **Which airport from has the most delays.**"
      ]
    },
    {
      "cell_type": "code",
      "execution_count": null,
      "metadata": {
        "id": "wUvjovmmYUZN",
        "colab": {
          "base_uri": "https://localhost:8080/",
          "height": 424
        },
        "outputId": "35594645-dbc0-4765-d3cb-b2e827aab8a5"
      },
      "outputs": [
        {
          "output_type": "display_data",
          "data": {
            "text/plain": [
              "    AirportFrom      Length\n",
              "259         SJU  229.667073\n",
              "268         STT  218.431373\n",
              "37          BQN  217.500000\n",
              "147         JFK  212.836020\n",
              "224         PSE  208.500000\n",
              "..          ...         ...\n",
              "265         SPS   45.000000\n",
              "57          CLD   39.686047\n",
              "225         PSG   35.687500\n",
              "190         MOD   35.051282\n",
              "288         WRG   32.000000\n",
              "\n",
              "[292 rows x 2 columns]"
            ],
            "text/html": [
              "\n",
              "  <div id=\"df-8c618f9b-7814-46ce-b92d-121f19e5e460\">\n",
              "    <div class=\"colab-df-container\">\n",
              "      <div>\n",
              "<style scoped>\n",
              "    .dataframe tbody tr th:only-of-type {\n",
              "        vertical-align: middle;\n",
              "    }\n",
              "\n",
              "    .dataframe tbody tr th {\n",
              "        vertical-align: top;\n",
              "    }\n",
              "\n",
              "    .dataframe thead th {\n",
              "        text-align: right;\n",
              "    }\n",
              "</style>\n",
              "<table border=\"1\" class=\"dataframe\">\n",
              "  <thead>\n",
              "    <tr style=\"text-align: right;\">\n",
              "      <th></th>\n",
              "      <th>AirportFrom</th>\n",
              "      <th>Length</th>\n",
              "    </tr>\n",
              "  </thead>\n",
              "  <tbody>\n",
              "    <tr>\n",
              "      <th>259</th>\n",
              "      <td>SJU</td>\n",
              "      <td>229.667073</td>\n",
              "    </tr>\n",
              "    <tr>\n",
              "      <th>268</th>\n",
              "      <td>STT</td>\n",
              "      <td>218.431373</td>\n",
              "    </tr>\n",
              "    <tr>\n",
              "      <th>37</th>\n",
              "      <td>BQN</td>\n",
              "      <td>217.500000</td>\n",
              "    </tr>\n",
              "    <tr>\n",
              "      <th>147</th>\n",
              "      <td>JFK</td>\n",
              "      <td>212.836020</td>\n",
              "    </tr>\n",
              "    <tr>\n",
              "      <th>224</th>\n",
              "      <td>PSE</td>\n",
              "      <td>208.500000</td>\n",
              "    </tr>\n",
              "    <tr>\n",
              "      <th>...</th>\n",
              "      <td>...</td>\n",
              "      <td>...</td>\n",
              "    </tr>\n",
              "    <tr>\n",
              "      <th>265</th>\n",
              "      <td>SPS</td>\n",
              "      <td>45.000000</td>\n",
              "    </tr>\n",
              "    <tr>\n",
              "      <th>57</th>\n",
              "      <td>CLD</td>\n",
              "      <td>39.686047</td>\n",
              "    </tr>\n",
              "    <tr>\n",
              "      <th>225</th>\n",
              "      <td>PSG</td>\n",
              "      <td>35.687500</td>\n",
              "    </tr>\n",
              "    <tr>\n",
              "      <th>190</th>\n",
              "      <td>MOD</td>\n",
              "      <td>35.051282</td>\n",
              "    </tr>\n",
              "    <tr>\n",
              "      <th>288</th>\n",
              "      <td>WRG</td>\n",
              "      <td>32.000000</td>\n",
              "    </tr>\n",
              "  </tbody>\n",
              "</table>\n",
              "<p>292 rows × 2 columns</p>\n",
              "</div>\n",
              "      <button class=\"colab-df-convert\" onclick=\"convertToInteractive('df-8c618f9b-7814-46ce-b92d-121f19e5e460')\"\n",
              "              title=\"Convert this dataframe to an interactive table.\"\n",
              "              style=\"display:none;\">\n",
              "        \n",
              "  <svg xmlns=\"http://www.w3.org/2000/svg\" height=\"24px\"viewBox=\"0 0 24 24\"\n",
              "       width=\"24px\">\n",
              "    <path d=\"M0 0h24v24H0V0z\" fill=\"none\"/>\n",
              "    <path d=\"M18.56 5.44l.94 2.06.94-2.06 2.06-.94-2.06-.94-.94-2.06-.94 2.06-2.06.94zm-11 1L8.5 8.5l.94-2.06 2.06-.94-2.06-.94L8.5 2.5l-.94 2.06-2.06.94zm10 10l.94 2.06.94-2.06 2.06-.94-2.06-.94-.94-2.06-.94 2.06-2.06.94z\"/><path d=\"M17.41 7.96l-1.37-1.37c-.4-.4-.92-.59-1.43-.59-.52 0-1.04.2-1.43.59L10.3 9.45l-7.72 7.72c-.78.78-.78 2.05 0 2.83L4 21.41c.39.39.9.59 1.41.59.51 0 1.02-.2 1.41-.59l7.78-7.78 2.81-2.81c.8-.78.8-2.07 0-2.86zM5.41 20L4 18.59l7.72-7.72 1.47 1.35L5.41 20z\"/>\n",
              "  </svg>\n",
              "      </button>\n",
              "      \n",
              "  <style>\n",
              "    .colab-df-container {\n",
              "      display:flex;\n",
              "      flex-wrap:wrap;\n",
              "      gap: 12px;\n",
              "    }\n",
              "\n",
              "    .colab-df-convert {\n",
              "      background-color: #E8F0FE;\n",
              "      border: none;\n",
              "      border-radius: 50%;\n",
              "      cursor: pointer;\n",
              "      display: none;\n",
              "      fill: #1967D2;\n",
              "      height: 32px;\n",
              "      padding: 0 0 0 0;\n",
              "      width: 32px;\n",
              "    }\n",
              "\n",
              "    .colab-df-convert:hover {\n",
              "      background-color: #E2EBFA;\n",
              "      box-shadow: 0px 1px 2px rgba(60, 64, 67, 0.3), 0px 1px 3px 1px rgba(60, 64, 67, 0.15);\n",
              "      fill: #174EA6;\n",
              "    }\n",
              "\n",
              "    [theme=dark] .colab-df-convert {\n",
              "      background-color: #3B4455;\n",
              "      fill: #D2E3FC;\n",
              "    }\n",
              "\n",
              "    [theme=dark] .colab-df-convert:hover {\n",
              "      background-color: #434B5C;\n",
              "      box-shadow: 0px 1px 3px 1px rgba(0, 0, 0, 0.15);\n",
              "      filter: drop-shadow(0px 1px 2px rgba(0, 0, 0, 0.3));\n",
              "      fill: #FFFFFF;\n",
              "    }\n",
              "  </style>\n",
              "\n",
              "      <script>\n",
              "        const buttonEl =\n",
              "          document.querySelector('#df-8c618f9b-7814-46ce-b92d-121f19e5e460 button.colab-df-convert');\n",
              "        buttonEl.style.display =\n",
              "          google.colab.kernel.accessAllowed ? 'block' : 'none';\n",
              "\n",
              "        async function convertToInteractive(key) {\n",
              "          const element = document.querySelector('#df-8c618f9b-7814-46ce-b92d-121f19e5e460');\n",
              "          const dataTable =\n",
              "            await google.colab.kernel.invokeFunction('convertToInteractive',\n",
              "                                                     [key], {});\n",
              "          if (!dataTable) return;\n",
              "\n",
              "          const docLinkHtml = 'Like what you see? Visit the ' +\n",
              "            '<a target=\"_blank\" href=https://colab.research.google.com/notebooks/data_table.ipynb>data table notebook</a>'\n",
              "            + ' to learn more about interactive tables.';\n",
              "          element.innerHTML = '';\n",
              "          dataTable['output_type'] = 'display_data';\n",
              "          await google.colab.output.renderOutput(dataTable, element);\n",
              "          const docLink = document.createElement('div');\n",
              "          docLink.innerHTML = docLinkHtml;\n",
              "          element.appendChild(docLink);\n",
              "        }\n",
              "      </script>\n",
              "    </div>\n",
              "  </div>\n",
              "  "
            ]
          },
          "metadata": {}
        }
      ],
      "source": [
        "data=df1.groupby('AirportFrom',as_index=False).mean().sort_values('Length',ascending=False)[['AirportFrom','Length']]\n",
        "display(data)"
      ]
    },
    {
      "cell_type": "code",
      "execution_count": null,
      "metadata": {
        "id": "vWMi0tQFKtqA",
        "colab": {
          "base_uri": "https://localhost:8080/",
          "height": 646
        },
        "outputId": "6c3bbc98-cd6e-4a1a-cc7b-0ce4ad08d625"
      },
      "outputs": [
        {
          "output_type": "display_data",
          "data": {
            "text/plain": [
              "<Figure size 1080x720 with 1 Axes>"
            ],
            "image/png": "[encoded data removed]"
          },
          "metadata": {}
        }
      ],
      "source": [
        "#Visualizing the above results\n",
        "#Sorting top 10\n",
        "top10 = data.head(10)\n",
        "top10 = top10[:10]\n",
        "#Visualizing\n",
        "plt.figure(figsize=(15,10));\n",
        "sns.barplot(y='Length',x='AirportFrom',data=top10,palette='icefire_r');\n",
        "plt.xlabel('AirportFrom');\n",
        "plt.ylabel('Length of delays');\n",
        "plt.title('Airport From vs Delays');"
      ]
    },
    {
      "cell_type": "markdown",
      "source": [
        "GUM Airport had the highest delays, being a US territory island in Micronesia it experiences some of the adverse weather such as crosswinds of 30-35 kts or more which are deemed unsafe for take_off or landing.It also geoghraphically lies in the path of typhoons  ( a mature tropical cyclone that develops between 180° and 100°E in the Northern Hemisphere) where it has been hit some of the severe ones like  Typhoon of 1900, Karen (1962), Pamela (1976), Paka (1997), and Pongsona (2002).\n",
        "\n",
        "It also the home away from home of US military base who occupy 29% of the island\n"
      ],
      "metadata": {
        "id": "ZPIgw1BGE7qJ"
      }
    },
    {
      "cell_type": "code",
      "execution_count": null,
      "metadata": {
        "id": "nRAIav6YL-1q",
        "colab": {
          "base_uri": "https://localhost:8080/",
          "height": 424
        },
        "outputId": "da00a26e-c249-441e-9625-08e0b040e5a0"
      },
      "outputs": [
        {
          "output_type": "display_data",
          "data": {
            "text/plain": [
              "    AirportTo      Length\n",
              "268       STT  206.735294\n",
              "259       SJU  206.506068\n",
              "37        BQN  202.885246\n",
              "251       SEA  200.885714\n",
              "224       PSE  191.500000\n",
              "..        ...         ...\n",
              "57        CLD   41.651163\n",
              "288       WRG   40.406250\n",
              "5         ACT   40.000000\n",
              "190       MOD   37.641026\n",
              "225       PSG   34.656250\n",
              "\n",
              "[292 rows x 2 columns]"
            ],
            "text/html": [
              "\n",
              "  <div id=\"df-7f13d93a-6705-433c-9701-5e76ea8c8f95\">\n",
              "    <div class=\"colab-df-container\">\n",
              "      <div>\n",
              "<style scoped>\n",
              "    .dataframe tbody tr th:only-of-type {\n",
              "        vertical-align: middle;\n",
              "    }\n",
              "\n",
              "    .dataframe tbody tr th {\n",
              "        vertical-align: top;\n",
              "    }\n",
              "\n",
              "    .dataframe thead th {\n",
              "        text-align: right;\n",
              "    }\n",
              "</style>\n",
              "<table border=\"1\" class=\"dataframe\">\n",
              "  <thead>\n",
              "    <tr style=\"text-align: right;\">\n",
              "      <th></th>\n",
              "      <th>AirportTo</th>\n",
              "      <th>Length</th>\n",
              "    </tr>\n",
              "  </thead>\n",
              "  <tbody>\n",
              "    <tr>\n",
              "      <th>268</th>\n",
              "      <td>STT</td>\n",
              "      <td>206.735294</td>\n",
              "    </tr>\n",
              "    <tr>\n",
              "      <th>259</th>\n",
              "      <td>SJU</td>\n",
              "      <td>206.506068</td>\n",
              "    </tr>\n",
              "    <tr>\n",
              "      <th>37</th>\n",
              "      <td>BQN</td>\n",
              "      <td>202.885246</td>\n",
              "    </tr>\n",
              "    <tr>\n",
              "      <th>251</th>\n",
              "      <td>SEA</td>\n",
              "      <td>200.885714</td>\n",
              "    </tr>\n",
              "    <tr>\n",
              "      <th>224</th>\n",
              "      <td>PSE</td>\n",
              "      <td>191.500000</td>\n",
              "    </tr>\n",
              "    <tr>\n",
              "      <th>...</th>\n",
              "      <td>...</td>\n",
              "      <td>...</td>\n",
              "    </tr>\n",
              "    <tr>\n",
              "      <th>57</th>\n",
              "      <td>CLD</td>\n",
              "      <td>41.651163</td>\n",
              "    </tr>\n",
              "    <tr>\n",
              "      <th>288</th>\n",
              "      <td>WRG</td>\n",
              "      <td>40.406250</td>\n",
              "    </tr>\n",
              "    <tr>\n",
              "      <th>5</th>\n",
              "      <td>ACT</td>\n",
              "      <td>40.000000</td>\n",
              "    </tr>\n",
              "    <tr>\n",
              "      <th>190</th>\n",
              "      <td>MOD</td>\n",
              "      <td>37.641026</td>\n",
              "    </tr>\n",
              "    <tr>\n",
              "      <th>225</th>\n",
              "      <td>PSG</td>\n",
              "      <td>34.656250</td>\n",
              "    </tr>\n",
              "  </tbody>\n",
              "</table>\n",
              "<p>292 rows × 2 columns</p>\n",
              "</div>\n",
              "      <button class=\"colab-df-convert\" onclick=\"convertToInteractive('df-7f13d93a-6705-433c-9701-5e76ea8c8f95')\"\n",
              "              title=\"Convert this dataframe to an interactive table.\"\n",
              "              style=\"display:none;\">\n",
              "        \n",
              "  <svg xmlns=\"http://www.w3.org/2000/svg\" height=\"24px\"viewBox=\"0 0 24 24\"\n",
              "       width=\"24px\">\n",
              "    <path d=\"M0 0h24v24H0V0z\" fill=\"none\"/>\n",
              "    <path d=\"M18.56 5.44l.94 2.06.94-2.06 2.06-.94-2.06-.94-.94-2.06-.94 2.06-2.06.94zm-11 1L8.5 8.5l.94-2.06 2.06-.94-2.06-.94L8.5 2.5l-.94 2.06-2.06.94zm10 10l.94 2.06.94-2.06 2.06-.94-2.06-.94-.94-2.06-.94 2.06-2.06.94z\"/><path d=\"M17.41 7.96l-1.37-1.37c-.4-.4-.92-.59-1.43-.59-.52 0-1.04.2-1.43.59L10.3 9.45l-7.72 7.72c-.78.78-.78 2.05 0 2.83L4 21.41c.39.39.9.59 1.41.59.51 0 1.02-.2 1.41-.59l7.78-7.78 2.81-2.81c.8-.78.8-2.07 0-2.86zM5.41 20L4 18.59l7.72-7.72 1.47 1.35L5.41 20z\"/>\n",
              "  </svg>\n",
              "      </button>\n",
              "      \n",
              "  <style>\n",
              "    .colab-df-container {\n",
              "      display:flex;\n",
              "      flex-wrap:wrap;\n",
              "      gap: 12px;\n",
              "    }\n",
              "\n",
              "    .colab-df-convert {\n",
              "      background-color: #E8F0FE;\n",
              "      border: none;\n",
              "      border-radius: 50%;\n",
              "      cursor: pointer;\n",
              "      display: none;\n",
              "      fill: #1967D2;\n",
              "      height: 32px;\n",
              "      padding: 0 0 0 0;\n",
              "      width: 32px;\n",
              "    }\n",
              "\n",
              "    .colab-df-convert:hover {\n",
              "      background-color: #E2EBFA;\n",
              "      box-shadow: 0px 1px 2px rgba(60, 64, 67, 0.3), 0px 1px 3px 1px rgba(60, 64, 67, 0.15);\n",
              "      fill: #174EA6;\n",
              "    }\n",
              "\n",
              "    [theme=dark] .colab-df-convert {\n",
              "      background-color: #3B4455;\n",
              "      fill: #D2E3FC;\n",
              "    }\n",
              "\n",
              "    [theme=dark] .colab-df-convert:hover {\n",
              "      background-color: #434B5C;\n",
              "      box-shadow: 0px 1px 3px 1px rgba(0, 0, 0, 0.15);\n",
              "      filter: drop-shadow(0px 1px 2px rgba(0, 0, 0, 0.3));\n",
              "      fill: #FFFFFF;\n",
              "    }\n",
              "  </style>\n",
              "\n",
              "      <script>\n",
              "        const buttonEl =\n",
              "          document.querySelector('#df-7f13d93a-6705-433c-9701-5e76ea8c8f95 button.colab-df-convert');\n",
              "        buttonEl.style.display =\n",
              "          google.colab.kernel.accessAllowed ? 'block' : 'none';\n",
              "\n",
              "        async function convertToInteractive(key) {\n",
              "          const element = document.querySelector('#df-7f13d93a-6705-433c-9701-5e76ea8c8f95');\n",
              "          const dataTable =\n",
              "            await google.colab.kernel.invokeFunction('convertToInteractive',\n",
              "                                                     [key], {});\n",
              "          if (!dataTable) return;\n",
              "\n",
              "          const docLinkHtml = 'Like what you see? Visit the ' +\n",
              "            '<a target=\"_blank\" href=https://colab.research.google.com/notebooks/data_table.ipynb>data table notebook</a>'\n",
              "            + ' to learn more about interactive tables.';\n",
              "          element.innerHTML = '';\n",
              "          dataTable['output_type'] = 'display_data';\n",
              "          await google.colab.output.renderOutput(dataTable, element);\n",
              "          const docLink = document.createElement('div');\n",
              "          docLink.innerHTML = docLinkHtml;\n",
              "          element.appendChild(docLink);\n",
              "        }\n",
              "      </script>\n",
              "    </div>\n",
              "  </div>\n",
              "  "
            ]
          },
          "metadata": {}
        }
      ],
      "source": [
        "data1=df1.groupby('AirportTo',as_index=False).mean().sort_values('Length',ascending=False)[['AirportTo','Length']]\n",
        "display(data1)"
      ]
    },
    {
      "cell_type": "markdown",
      "source": [
        "Same is observed here since a delay in departure equals a delay in arrival"
      ],
      "metadata": {
        "id": "ce0bs4ffRlek"
      }
    },
    {
      "cell_type": "code",
      "execution_count": null,
      "metadata": {
        "id": "cIErkE1rL-p9",
        "colab": {
          "base_uri": "https://localhost:8080/",
          "height": 537
        },
        "outputId": "7ab1e244-7f0c-4a36-f05b-399312086a48"
      },
      "outputs": [
        {
          "output_type": "display_data",
          "data": {
            "text/plain": [
              "<Figure size 1080x576 with 1 Axes>"
            ],
            "image/png": "[encoded data removed]"
          },
          "metadata": {}
        }
      ],
      "source": [
        "#Visualizing the Airports with the least delays\n",
        "#Sorting top 10\n",
        "lst10 = data.tail(10)\n",
        "\n",
        "#Visualizing\n",
        "plt.figure(figsize=(15,8));\n",
        "sns.barplot(y='Length',x='AirportFrom',data=lst10,palette='icefire_r');\n",
        "plt.xlabel('AirportFrom');\n",
        "plt.ylabel('Length of delays');\n",
        "plt.title('Airport From vs Delays');"
      ]
    },
    {
      "cell_type": "markdown",
      "source": [
        "From our data set WRG (Wrangell Airport) had the least delay time. This is expected since from previous it was among the airport with the least flights(traffic) and it also had least delay time compared to other with the least flights"
      ],
      "metadata": {
        "id": "sF0hm_CQTemx"
      }
    },
    {
      "cell_type": "markdown",
      "metadata": {
        "id": "Y4RtEb0zNRUq"
      },
      "source": [
        "## **Which day of the week had the most delays.**"
      ]
    },
    {
      "cell_type": "code",
      "execution_count": null,
      "metadata": {
        "id": "xVluM9P8sGxt",
        "colab": {
          "base_uri": "https://localhost:8080/",
          "height": 378
        },
        "outputId": "cb31a546-c4b4-4acd-8788-4d27e7f92adb"
      },
      "outputs": [
        {
          "output_type": "display_data",
          "data": {
            "text/plain": [
              "<Figure size 1209.6x432 with 7 Axes>"
            ],
            "image/png": "[encoded data removed]"
          },
          "metadata": {}
        }
      ],
      "source": [
        "#Delay vs Airport From\n",
        "sns.catplot(\"Delay\", col=\"DayOfWeek\", col_wrap=7, data=df1, kind=\"count\", height=6, aspect=.4, palette='Set1')\n",
        "plt.show()"
      ]
    },
    {
      "cell_type": "markdown",
      "source": [
        "From a count plot view the day with most delays (1) was Day three and Day four"
      ],
      "metadata": {
        "id": "HHDn0FzsVZJu"
      }
    },
    {
      "cell_type": "markdown",
      "metadata": {
        "id": "pqmUB4EeOSpi"
      },
      "source": [
        "## **Which day of the week had the longest time of delays.**"
      ]
    },
    {
      "cell_type": "code",
      "execution_count": null,
      "metadata": {
        "id": "uz70pH_uNZYH",
        "colab": {
          "base_uri": "https://localhost:8080/",
          "height": 269
        },
        "outputId": "c287deb1-24c3-49a9-eaa9-ff8c4c6427f0"
      },
      "outputs": [
        {
          "output_type": "display_data",
          "data": {
            "text/plain": [
              "   DayOfWeek      Length\n",
              "5        6.0  133.689982\n",
              "6        7.0  131.368996\n",
              "3        4.0  130.661143\n",
              "4        5.0  130.375865\n",
              "0        1.0  130.124182\n",
              "2        3.0  129.599211\n",
              "1        2.0  129.132874"
            ],
            "text/html": [
              "\n",
              "  <div id=\"df-dd366a70-883c-4c72-94d5-b148a23c3003\">\n",
              "    <div class=\"colab-df-container\">\n",
              "      <div>\n",
              "<style scoped>\n",
              "    .dataframe tbody tr th:only-of-type {\n",
              "        vertical-align: middle;\n",
              "    }\n",
              "\n",
              "    .dataframe tbody tr th {\n",
              "        vertical-align: top;\n",
              "    }\n",
              "\n",
              "    .dataframe thead th {\n",
              "        text-align: right;\n",
              "    }\n",
              "</style>\n",
              "<table border=\"1\" class=\"dataframe\">\n",
              "  <thead>\n",
              "    <tr style=\"text-align: right;\">\n",
              "      <th></th>\n",
              "      <th>DayOfWeek</th>\n",
              "      <th>Length</th>\n",
              "    </tr>\n",
              "  </thead>\n",
              "  <tbody>\n",
              "    <tr>\n",
              "      <th>5</th>\n",
              "      <td>6.0</td>\n",
              "      <td>133.689982</td>\n",
              "    </tr>\n",
              "    <tr>\n",
              "      <th>6</th>\n",
              "      <td>7.0</td>\n",
              "      <td>131.368996</td>\n",
              "    </tr>\n",
              "    <tr>\n",
              "      <th>3</th>\n",
              "      <td>4.0</td>\n",
              "      <td>130.661143</td>\n",
              "    </tr>\n",
              "    <tr>\n",
              "      <th>4</th>\n",
              "      <td>5.0</td>\n",
              "      <td>130.375865</td>\n",
              "    </tr>\n",
              "    <tr>\n",
              "      <th>0</th>\n",
              "      <td>1.0</td>\n",
              "      <td>130.124182</td>\n",
              "    </tr>\n",
              "    <tr>\n",
              "      <th>2</th>\n",
              "      <td>3.0</td>\n",
              "      <td>129.599211</td>\n",
              "    </tr>\n",
              "    <tr>\n",
              "      <th>1</th>\n",
              "      <td>2.0</td>\n",
              "      <td>129.132874</td>\n",
              "    </tr>\n",
              "  </tbody>\n",
              "</table>\n",
              "</div>\n",
              "      <button class=\"colab-df-convert\" onclick=\"convertToInteractive('df-dd366a70-883c-4c72-94d5-b148a23c3003')\"\n",
              "              title=\"Convert this dataframe to an interactive table.\"\n",
              "              style=\"display:none;\">\n",
              "        \n",
              "  <svg xmlns=\"http://www.w3.org/2000/svg\" height=\"24px\"viewBox=\"0 0 24 24\"\n",
              "       width=\"24px\">\n",
              "    <path d=\"M0 0h24v24H0V0z\" fill=\"none\"/>\n",
              "    <path d=\"M18.56 5.44l.94 2.06.94-2.06 2.06-.94-2.06-.94-.94-2.06-.94 2.06-2.06.94zm-11 1L8.5 8.5l.94-2.06 2.06-.94-2.06-.94L8.5 2.5l-.94 2.06-2.06.94zm10 10l.94 2.06.94-2.06 2.06-.94-2.06-.94-.94-2.06-.94 2.06-2.06.94z\"/><path d=\"M17.41 7.96l-1.37-1.37c-.4-.4-.92-.59-1.43-.59-.52 0-1.04.2-1.43.59L10.3 9.45l-7.72 7.72c-.78.78-.78 2.05 0 2.83L4 21.41c.39.39.9.59 1.41.59.51 0 1.02-.2 1.41-.59l7.78-7.78 2.81-2.81c.8-.78.8-2.07 0-2.86zM5.41 20L4 18.59l7.72-7.72 1.47 1.35L5.41 20z\"/>\n",
              "  </svg>\n",
              "      </button>\n",
              "      \n",
              "  <style>\n",
              "    .colab-df-container {\n",
              "      display:flex;\n",
              "      flex-wrap:wrap;\n",
              "      gap: 12px;\n",
              "    }\n",
              "\n",
              "    .colab-df-convert {\n",
              "      background-color: #E8F0FE;\n",
              "      border: none;\n",
              "      border-radius: 50%;\n",
              "      cursor: pointer;\n",
              "      display: none;\n",
              "      fill: #1967D2;\n",
              "      height: 32px;\n",
              "      padding: 0 0 0 0;\n",
              "      width: 32px;\n",
              "    }\n",
              "\n",
              "    .colab-df-convert:hover {\n",
              "      background-color: #E2EBFA;\n",
              "      box-shadow: 0px 1px 2px rgba(60, 64, 67, 0.3), 0px 1px 3px 1px rgba(60, 64, 67, 0.15);\n",
              "      fill: #174EA6;\n",
              "    }\n",
              "\n",
              "    [theme=dark] .colab-df-convert {\n",
              "      background-color: #3B4455;\n",
              "      fill: #D2E3FC;\n",
              "    }\n",
              "\n",
              "    [theme=dark] .colab-df-convert:hover {\n",
              "      background-color: #434B5C;\n",
              "      box-shadow: 0px 1px 3px 1px rgba(0, 0, 0, 0.15);\n",
              "      filter: drop-shadow(0px 1px 2px rgba(0, 0, 0, 0.3));\n",
              "      fill: #FFFFFF;\n",
              "    }\n",
              "  </style>\n",
              "\n",
              "      <script>\n",
              "        const buttonEl =\n",
              "          document.querySelector('#df-dd366a70-883c-4c72-94d5-b148a23c3003 button.colab-df-convert');\n",
              "        buttonEl.style.display =\n",
              "          google.colab.kernel.accessAllowed ? 'block' : 'none';\n",
              "\n",
              "        async function convertToInteractive(key) {\n",
              "          const element = document.querySelector('#df-dd366a70-883c-4c72-94d5-b148a23c3003');\n",
              "          const dataTable =\n",
              "            await google.colab.kernel.invokeFunction('convertToInteractive',\n",
              "                                                     [key], {});\n",
              "          if (!dataTable) return;\n",
              "\n",
              "          const docLinkHtml = 'Like what you see? Visit the ' +\n",
              "            '<a target=\"_blank\" href=https://colab.research.google.com/notebooks/data_table.ipynb>data table notebook</a>'\n",
              "            + ' to learn more about interactive tables.';\n",
              "          element.innerHTML = '';\n",
              "          dataTable['output_type'] = 'display_data';\n",
              "          await google.colab.output.renderOutput(dataTable, element);\n",
              "          const docLink = document.createElement('div');\n",
              "          docLink.innerHTML = docLinkHtml;\n",
              "          element.appendChild(docLink);\n",
              "        }\n",
              "      </script>\n",
              "    </div>\n",
              "  </div>\n",
              "  "
            ]
          },
          "metadata": {}
        }
      ],
      "source": [
        "data3=df1.groupby('DayOfWeek',as_index=False).mean().sort_values('Length',ascending=False)[['DayOfWeek','Length']]\n",
        "display(data3)"
      ]
    },
    {
      "cell_type": "code",
      "execution_count": null,
      "metadata": {
        "id": "uvTwE0G3N2Zx",
        "colab": {
          "base_uri": "https://localhost:8080/",
          "height": 646
        },
        "outputId": "d78fb07c-948f-4ea2-de67-abd991d1683c"
      },
      "outputs": [
        {
          "output_type": "display_data",
          "data": {
            "text/plain": [
              "<Figure size 1080x720 with 1 Axes>"
            ],
            "image/png": "[encoded data removed]"
          },
          "metadata": {}
        }
      ],
      "source": [
        "#Visualizing the above results\n",
        "#\n",
        "plt.figure(figsize=(15,10));\n",
        "sns.barplot(y='Length',x='DayOfWeek', data=data3,palette='icefire_r');\n",
        "plt.xlabel('DayOfWeek');\n",
        "plt.ylabel('Length of delays');\n",
        "plt.title('Day Of the week vs Delays');"
      ]
    },
    {
      "cell_type": "markdown",
      "source": [
        "From Delay length point of view Day six had the maximum length of delay"
      ],
      "metadata": {
        "id": "nfPBzRqMVuVA"
      }
    },
    {
      "cell_type": "markdown",
      "metadata": {
        "id": "xPY3MG7qJaS1"
      },
      "source": [
        "# **Which airline had the most delays.**"
      ]
    },
    {
      "cell_type": "code",
      "source": [
        "#First lets look at the airline with most flights\n",
        "dx=df1.groupby('Airline',as_index=False).mean().sort_values('Flight',ascending=False)[['Airline','Flight']]\n",
        "display(dx)"
      ],
      "metadata": {
        "id": "ZInYKIHdXNUP",
        "colab": {
          "base_uri": "https://localhost:8080/",
          "height": 614
        },
        "outputId": "3dc12ce9-b854-4327-b010-c4441313dd6e"
      },
      "execution_count": null,
      "outputs": [
        {
          "output_type": "display_data",
          "data": {
            "text/plain": [
              "   Airline       Flight\n",
              "11      OH  6496.837487\n",
              "12      OO  6102.552979\n",
              "6       EV  5637.344917\n",
              "0       9E  3998.314510\n",
              "17      YV  3687.508010\n",
              "10      MQ  3665.986068\n",
              "16      XE  3083.103068\n",
              "5       DL  1811.065406\n",
              "15      WN  1393.276638\n",
              "1       AA  1245.572416\n",
              "14      US  1103.506690\n",
              "4       CO   850.621720\n",
              "8       FL   639.180065\n",
              "3       B6   610.086526\n",
              "7       F9   487.109639\n",
              "13      UA   466.774577\n",
              "2       AS   378.436247\n",
              "9       HA   231.418686"
            ],
            "text/html": [
              "\n",
              "  <div id=\"df-18fe13d9-dae3-44b9-8a33-6e227e5c61d9\">\n",
              "    <div class=\"colab-df-container\">\n",
              "      <div>\n",
              "<style scoped>\n",
              "    .dataframe tbody tr th:only-of-type {\n",
              "        vertical-align: middle;\n",
              "    }\n",
              "\n",
              "    .dataframe tbody tr th {\n",
              "        vertical-align: top;\n",
              "    }\n",
              "\n",
              "    .dataframe thead th {\n",
              "        text-align: right;\n",
              "    }\n",
              "</style>\n",
              "<table border=\"1\" class=\"dataframe\">\n",
              "  <thead>\n",
              "    <tr style=\"text-align: right;\">\n",
              "      <th></th>\n",
              "      <th>Airline</th>\n",
              "      <th>Flight</th>\n",
              "    </tr>\n",
              "  </thead>\n",
              "  <tbody>\n",
              "    <tr>\n",
              "      <th>11</th>\n",
              "      <td>OH</td>\n",
              "      <td>6496.837487</td>\n",
              "    </tr>\n",
              "    <tr>\n",
              "      <th>12</th>\n",
              "      <td>OO</td>\n",
              "      <td>6102.552979</td>\n",
              "    </tr>\n",
              "    <tr>\n",
              "      <th>6</th>\n",
              "      <td>EV</td>\n",
              "      <td>5637.344917</td>\n",
              "    </tr>\n",
              "    <tr>\n",
              "      <th>0</th>\n",
              "      <td>9E</td>\n",
              "      <td>3998.314510</td>\n",
              "    </tr>\n",
              "    <tr>\n",
              "      <th>17</th>\n",
              "      <td>YV</td>\n",
              "      <td>3687.508010</td>\n",
              "    </tr>\n",
              "    <tr>\n",
              "      <th>10</th>\n",
              "      <td>MQ</td>\n",
              "      <td>3665.986068</td>\n",
              "    </tr>\n",
              "    <tr>\n",
              "      <th>16</th>\n",
              "      <td>XE</td>\n",
              "      <td>3083.103068</td>\n",
              "    </tr>\n",
              "    <tr>\n",
              "      <th>5</th>\n",
              "      <td>DL</td>\n",
              "      <td>1811.065406</td>\n",
              "    </tr>\n",
              "    <tr>\n",
              "      <th>15</th>\n",
              "      <td>WN</td>\n",
              "      <td>1393.276638</td>\n",
              "    </tr>\n",
              "    <tr>\n",
              "      <th>1</th>\n",
              "      <td>AA</td>\n",
              "      <td>1245.572416</td>\n",
              "    </tr>\n",
              "    <tr>\n",
              "      <th>14</th>\n",
              "      <td>US</td>\n",
              "      <td>1103.506690</td>\n",
              "    </tr>\n",
              "    <tr>\n",
              "      <th>4</th>\n",
              "      <td>CO</td>\n",
              "      <td>850.621720</td>\n",
              "    </tr>\n",
              "    <tr>\n",
              "      <th>8</th>\n",
              "      <td>FL</td>\n",
              "      <td>639.180065</td>\n",
              "    </tr>\n",
              "    <tr>\n",
              "      <th>3</th>\n",
              "      <td>B6</td>\n",
              "      <td>610.086526</td>\n",
              "    </tr>\n",
              "    <tr>\n",
              "      <th>7</th>\n",
              "      <td>F9</td>\n",
              "      <td>487.109639</td>\n",
              "    </tr>\n",
              "    <tr>\n",
              "      <th>13</th>\n",
              "      <td>UA</td>\n",
              "      <td>466.774577</td>\n",
              "    </tr>\n",
              "    <tr>\n",
              "      <th>2</th>\n",
              "      <td>AS</td>\n",
              "      <td>378.436247</td>\n",
              "    </tr>\n",
              "    <tr>\n",
              "      <th>9</th>\n",
              "      <td>HA</td>\n",
              "      <td>231.418686</td>\n",
              "    </tr>\n",
              "  </tbody>\n",
              "</table>\n",
              "</div>\n",
              "      <button class=\"colab-df-convert\" onclick=\"convertToInteractive('df-18fe13d9-dae3-44b9-8a33-6e227e5c61d9')\"\n",
              "              title=\"Convert this dataframe to an interactive table.\"\n",
              "              style=\"display:none;\">\n",
              "        \n",
              "  <svg xmlns=\"http://www.w3.org/2000/svg\" height=\"24px\"viewBox=\"0 0 24 24\"\n",
              "       width=\"24px\">\n",
              "    <path d=\"M0 0h24v24H0V0z\" fill=\"none\"/>\n",
              "    <path d=\"M18.56 5.44l.94 2.06.94-2.06 2.06-.94-2.06-.94-.94-2.06-.94 2.06-2.06.94zm-11 1L8.5 8.5l.94-2.06 2.06-.94-2.06-.94L8.5 2.5l-.94 2.06-2.06.94zm10 10l.94 2.06.94-2.06 2.06-.94-2.06-.94-.94-2.06-.94 2.06-2.06.94z\"/><path d=\"M17.41 7.96l-1.37-1.37c-.4-.4-.92-.59-1.43-.59-.52 0-1.04.2-1.43.59L10.3 9.45l-7.72 7.72c-.78.78-.78 2.05 0 2.83L4 21.41c.39.39.9.59 1.41.59.51 0 1.02-.2 1.41-.59l7.78-7.78 2.81-2.81c.8-.78.8-2.07 0-2.86zM5.41 20L4 18.59l7.72-7.72 1.47 1.35L5.41 20z\"/>\n",
              "  </svg>\n",
              "      </button>\n",
              "      \n",
              "  <style>\n",
              "    .colab-df-container {\n",
              "      display:flex;\n",
              "      flex-wrap:wrap;\n",
              "      gap: 12px;\n",
              "    }\n",
              "\n",
              "    .colab-df-convert {\n",
              "      background-color: #E8F0FE;\n",
              "      border: none;\n",
              "      border-radius: 50%;\n",
              "      cursor: pointer;\n",
              "      display: none;\n",
              "      fill: #1967D2;\n",
              "      height: 32px;\n",
              "      padding: 0 0 0 0;\n",
              "      width: 32px;\n",
              "    }\n",
              "\n",
              "    .colab-df-convert:hover {\n",
              "      background-color: #E2EBFA;\n",
              "      box-shadow: 0px 1px 2px rgba(60, 64, 67, 0.3), 0px 1px 3px 1px rgba(60, 64, 67, 0.15);\n",
              "      fill: #174EA6;\n",
              "    }\n",
              "\n",
              "    [theme=dark] .colab-df-convert {\n",
              "      background-color: #3B4455;\n",
              "      fill: #D2E3FC;\n",
              "    }\n",
              "\n",
              "    [theme=dark] .colab-df-convert:hover {\n",
              "      background-color: #434B5C;\n",
              "      box-shadow: 0px 1px 3px 1px rgba(0, 0, 0, 0.15);\n",
              "      filter: drop-shadow(0px 1px 2px rgba(0, 0, 0, 0.3));\n",
              "      fill: #FFFFFF;\n",
              "    }\n",
              "  </style>\n",
              "\n",
              "      <script>\n",
              "        const buttonEl =\n",
              "          document.querySelector('#df-18fe13d9-dae3-44b9-8a33-6e227e5c61d9 button.colab-df-convert');\n",
              "        buttonEl.style.display =\n",
              "          google.colab.kernel.accessAllowed ? 'block' : 'none';\n",
              "\n",
              "        async function convertToInteractive(key) {\n",
              "          const element = document.querySelector('#df-18fe13d9-dae3-44b9-8a33-6e227e5c61d9');\n",
              "          const dataTable =\n",
              "            await google.colab.kernel.invokeFunction('convertToInteractive',\n",
              "                                                     [key], {});\n",
              "          if (!dataTable) return;\n",
              "\n",
              "          const docLinkHtml = 'Like what you see? Visit the ' +\n",
              "            '<a target=\"_blank\" href=https://colab.research.google.com/notebooks/data_table.ipynb>data table notebook</a>'\n",
              "            + ' to learn more about interactive tables.';\n",
              "          element.innerHTML = '';\n",
              "          dataTable['output_type'] = 'display_data';\n",
              "          await google.colab.output.renderOutput(dataTable, element);\n",
              "          const docLink = document.createElement('div');\n",
              "          docLink.innerHTML = docLinkHtml;\n",
              "          element.appendChild(docLink);\n",
              "        }\n",
              "      </script>\n",
              "    </div>\n",
              "  </div>\n",
              "  "
            ]
          },
          "metadata": {}
        }
      ]
    },
    {
      "cell_type": "code",
      "source": [
        "#Visualizing the above results\n",
        "plt.figure(figsize=(15,10));\n",
        "sns.barplot(y='Flight',x='Airline',data=dx,palette='icefire_r');\n",
        "plt.xlabel('Airline');\n",
        "plt.ylabel('Flights');\n",
        "plt.title('Airline vs Flights');"
      ],
      "metadata": {
        "id": "fO7rZ1QJXedV",
        "colab": {
          "base_uri": "https://localhost:8080/",
          "height": 646
        },
        "outputId": "3b77a5eb-8054-4121-d3ee-8a449d21be2b"
      },
      "execution_count": null,
      "outputs": [
        {
          "output_type": "display_data",
          "data": {
            "text/plain": [
              "<Figure size 1080x720 with 1 Axes>"
            ],
            "image/png": "[encoded data removed]"
          },
          "metadata": {}
        }
      ]
    },
    {
      "cell_type": "markdown",
      "source": [
        "OH (Pacific Southwest) Airlines has the highest number of flights.Some of the contributing factors to highest trips is it was the first large discount airline in the United States. It also \n",
        "has its headquartered in Vandalia, Ohio, United States. It not only make local and states trip it also operates internationally."
      ],
      "metadata": {
        "id": "ST2lSa3abX5I"
      }
    },
    {
      "cell_type": "code",
      "execution_count": null,
      "metadata": {
        "id": "zg9yj480Gqud",
        "colab": {
          "base_uri": "https://localhost:8080/",
          "height": 614
        },
        "outputId": "12a2b703-2a58-4221-d12b-e96e02cfbe07"
      },
      "outputs": [
        {
          "output_type": "display_data",
          "data": {
            "text/plain": [
              "   Airline      Length\n",
              "13      UA  188.580296\n",
              "4       CO  188.405700\n",
              "1       AA  171.775899\n",
              "2       AS  170.556173\n",
              "3       B6  168.499825\n",
              "5       DL  154.479543\n",
              "7       F9  150.828614\n",
              "14      US  141.500229\n",
              "8       FL  130.378175\n",
              "15      WN  117.053378\n",
              "16      XE  108.000587\n",
              "11      OH  107.786271\n",
              "10      MQ  103.465741\n",
              "0       9E   95.708475\n",
              "12      OO   93.010240\n",
              "9       HA   92.199508\n",
              "6       EV   90.655898\n",
              "17      YV   90.041922"
            ],
            "text/html": [
              "\n",
              "  <div id=\"df-648d2565-34b5-4688-8a97-4e3c619e933d\">\n",
              "    <div class=\"colab-df-container\">\n",
              "      <div>\n",
              "<style scoped>\n",
              "    .dataframe tbody tr th:only-of-type {\n",
              "        vertical-align: middle;\n",
              "    }\n",
              "\n",
              "    .dataframe tbody tr th {\n",
              "        vertical-align: top;\n",
              "    }\n",
              "\n",
              "    .dataframe thead th {\n",
              "        text-align: right;\n",
              "    }\n",
              "</style>\n",
              "<table border=\"1\" class=\"dataframe\">\n",
              "  <thead>\n",
              "    <tr style=\"text-align: right;\">\n",
              "      <th></th>\n",
              "      <th>Airline</th>\n",
              "      <th>Length</th>\n",
              "    </tr>\n",
              "  </thead>\n",
              "  <tbody>\n",
              "    <tr>\n",
              "      <th>13</th>\n",
              "      <td>UA</td>\n",
              "      <td>188.580296</td>\n",
              "    </tr>\n",
              "    <tr>\n",
              "      <th>4</th>\n",
              "      <td>CO</td>\n",
              "      <td>188.405700</td>\n",
              "    </tr>\n",
              "    <tr>\n",
              "      <th>1</th>\n",
              "      <td>AA</td>\n",
              "      <td>171.775899</td>\n",
              "    </tr>\n",
              "    <tr>\n",
              "      <th>2</th>\n",
              "      <td>AS</td>\n",
              "      <td>170.556173</td>\n",
              "    </tr>\n",
              "    <tr>\n",
              "      <th>3</th>\n",
              "      <td>B6</td>\n",
              "      <td>168.499825</td>\n",
              "    </tr>\n",
              "    <tr>\n",
              "      <th>5</th>\n",
              "      <td>DL</td>\n",
              "      <td>154.479543</td>\n",
              "    </tr>\n",
              "    <tr>\n",
              "      <th>7</th>\n",
              "      <td>F9</td>\n",
              "      <td>150.828614</td>\n",
              "    </tr>\n",
              "    <tr>\n",
              "      <th>14</th>\n",
              "      <td>US</td>\n",
              "      <td>141.500229</td>\n",
              "    </tr>\n",
              "    <tr>\n",
              "      <th>8</th>\n",
              "      <td>FL</td>\n",
              "      <td>130.378175</td>\n",
              "    </tr>\n",
              "    <tr>\n",
              "      <th>15</th>\n",
              "      <td>WN</td>\n",
              "      <td>117.053378</td>\n",
              "    </tr>\n",
              "    <tr>\n",
              "      <th>16</th>\n",
              "      <td>XE</td>\n",
              "      <td>108.000587</td>\n",
              "    </tr>\n",
              "    <tr>\n",
              "      <th>11</th>\n",
              "      <td>OH</td>\n",
              "      <td>107.786271</td>\n",
              "    </tr>\n",
              "    <tr>\n",
              "      <th>10</th>\n",
              "      <td>MQ</td>\n",
              "      <td>103.465741</td>\n",
              "    </tr>\n",
              "    <tr>\n",
              "      <th>0</th>\n",
              "      <td>9E</td>\n",
              "      <td>95.708475</td>\n",
              "    </tr>\n",
              "    <tr>\n",
              "      <th>12</th>\n",
              "      <td>OO</td>\n",
              "      <td>93.010240</td>\n",
              "    </tr>\n",
              "    <tr>\n",
              "      <th>9</th>\n",
              "      <td>HA</td>\n",
              "      <td>92.199508</td>\n",
              "    </tr>\n",
              "    <tr>\n",
              "      <th>6</th>\n",
              "      <td>EV</td>\n",
              "      <td>90.655898</td>\n",
              "    </tr>\n",
              "    <tr>\n",
              "      <th>17</th>\n",
              "      <td>YV</td>\n",
              "      <td>90.041922</td>\n",
              "    </tr>\n",
              "  </tbody>\n",
              "</table>\n",
              "</div>\n",
              "      <button class=\"colab-df-convert\" onclick=\"convertToInteractive('df-648d2565-34b5-4688-8a97-4e3c619e933d')\"\n",
              "              title=\"Convert this dataframe to an interactive table.\"\n",
              "              style=\"display:none;\">\n",
              "        \n",
              "  <svg xmlns=\"http://www.w3.org/2000/svg\" height=\"24px\"viewBox=\"0 0 24 24\"\n",
              "       width=\"24px\">\n",
              "    <path d=\"M0 0h24v24H0V0z\" fill=\"none\"/>\n",
              "    <path d=\"M18.56 5.44l.94 2.06.94-2.06 2.06-.94-2.06-.94-.94-2.06-.94 2.06-2.06.94zm-11 1L8.5 8.5l.94-2.06 2.06-.94-2.06-.94L8.5 2.5l-.94 2.06-2.06.94zm10 10l.94 2.06.94-2.06 2.06-.94-2.06-.94-.94-2.06-.94 2.06-2.06.94z\"/><path d=\"M17.41 7.96l-1.37-1.37c-.4-.4-.92-.59-1.43-.59-.52 0-1.04.2-1.43.59L10.3 9.45l-7.72 7.72c-.78.78-.78 2.05 0 2.83L4 21.41c.39.39.9.59 1.41.59.51 0 1.02-.2 1.41-.59l7.78-7.78 2.81-2.81c.8-.78.8-2.07 0-2.86zM5.41 20L4 18.59l7.72-7.72 1.47 1.35L5.41 20z\"/>\n",
              "  </svg>\n",
              "      </button>\n",
              "      \n",
              "  <style>\n",
              "    .colab-df-container {\n",
              "      display:flex;\n",
              "      flex-wrap:wrap;\n",
              "      gap: 12px;\n",
              "    }\n",
              "\n",
              "    .colab-df-convert {\n",
              "      background-color: #E8F0FE;\n",
              "      border: none;\n",
              "      border-radius: 50%;\n",
              "      cursor: pointer;\n",
              "      display: none;\n",
              "      fill: #1967D2;\n",
              "      height: 32px;\n",
              "      padding: 0 0 0 0;\n",
              "      width: 32px;\n",
              "    }\n",
              "\n",
              "    .colab-df-convert:hover {\n",
              "      background-color: #E2EBFA;\n",
              "      box-shadow: 0px 1px 2px rgba(60, 64, 67, 0.3), 0px 1px 3px 1px rgba(60, 64, 67, 0.15);\n",
              "      fill: #174EA6;\n",
              "    }\n",
              "\n",
              "    [theme=dark] .colab-df-convert {\n",
              "      background-color: #3B4455;\n",
              "      fill: #D2E3FC;\n",
              "    }\n",
              "\n",
              "    [theme=dark] .colab-df-convert:hover {\n",
              "      background-color: #434B5C;\n",
              "      box-shadow: 0px 1px 3px 1px rgba(0, 0, 0, 0.15);\n",
              "      filter: drop-shadow(0px 1px 2px rgba(0, 0, 0, 0.3));\n",
              "      fill: #FFFFFF;\n",
              "    }\n",
              "  </style>\n",
              "\n",
              "      <script>\n",
              "        const buttonEl =\n",
              "          document.querySelector('#df-648d2565-34b5-4688-8a97-4e3c619e933d button.colab-df-convert');\n",
              "        buttonEl.style.display =\n",
              "          google.colab.kernel.accessAllowed ? 'block' : 'none';\n",
              "\n",
              "        async function convertToInteractive(key) {\n",
              "          const element = document.querySelector('#df-648d2565-34b5-4688-8a97-4e3c619e933d');\n",
              "          const dataTable =\n",
              "            await google.colab.kernel.invokeFunction('convertToInteractive',\n",
              "                                                     [key], {});\n",
              "          if (!dataTable) return;\n",
              "\n",
              "          const docLinkHtml = 'Like what you see? Visit the ' +\n",
              "            '<a target=\"_blank\" href=https://colab.research.google.com/notebooks/data_table.ipynb>data table notebook</a>'\n",
              "            + ' to learn more about interactive tables.';\n",
              "          element.innerHTML = '';\n",
              "          dataTable['output_type'] = 'display_data';\n",
              "          await google.colab.output.renderOutput(dataTable, element);\n",
              "          const docLink = document.createElement('div');\n",
              "          docLink.innerHTML = docLinkHtml;\n",
              "          element.appendChild(docLink);\n",
              "        }\n",
              "      </script>\n",
              "    </div>\n",
              "  </div>\n",
              "  "
            ]
          },
          "metadata": {}
        }
      ],
      "source": [
        "#Now the Airlines with most delays\n",
        "data2=df1.groupby('Airline',as_index=False).mean().sort_values('Length',ascending=False)[['Airline','Length']]\n",
        "display(data2)"
      ]
    },
    {
      "cell_type": "code",
      "execution_count": null,
      "metadata": {
        "id": "2CpzLm99Itp3",
        "colab": {
          "base_uri": "https://localhost:8080/",
          "height": 646
        },
        "outputId": "37e638ac-ef07-42c8-c0a0-a711ffc2741f"
      },
      "outputs": [
        {
          "output_type": "display_data",
          "data": {
            "text/plain": [
              "<Figure size 1080x720 with 1 Axes>"
            ],
            "image/png": "[encoded data removed]"
          },
          "metadata": {}
        }
      ],
      "source": [
        "#Visualizing the above results\n",
        "plt.figure(figsize=(15,10));\n",
        "sns.barplot(y='Length',x='Airline',data=data2,palette='icefire_r');\n",
        "plt.xlabel('Airline');\n",
        "plt.ylabel('Length of delays');\n",
        "plt.title('Airline vs Delays');"
      ]
    },
    {
      "cell_type": "markdown",
      "source": [
        "CO (Continental) airlines comes first with the maximum delay length in time. With its headquater in Houston, Texas; an area afftected by some of adverse weather conditions like tonados are some of its conntributing factors to delays."
      ],
      "metadata": {
        "id": "d_h5fC1gcViD"
      }
    },
    {
      "cell_type": "markdown",
      "metadata": {
        "id": "L5bcrtSLI4P3"
      },
      "source": [
        "### **3. Multivariate Analysis**"
      ]
    },
    {
      "cell_type": "code",
      "execution_count": null,
      "metadata": {
        "id": "V3NI4iv9huet",
        "colab": {
          "base_uri": "https://localhost:8080/"
        },
        "outputId": "8758d32e-9bf4-4e93-ce25-3a6804864cae"
      },
      "outputs": [
        {
          "output_type": "execute_result",
          "data": {
            "text/plain": [
              "Index(['Airline', 'Flight', 'AirportFrom', 'AirportTo', 'DayOfWeek', 'Time',\n",
              "       'Length', 'Delay'],\n",
              "      dtype='object')"
            ]
          },
          "metadata": {},
          "execution_count": 38
        }
      ],
      "source": [
        "df1.columns"
      ]
    },
    {
      "cell_type": "code",
      "execution_count": null,
      "metadata": {
        "id": "0kFmmcNjhri9"
      },
      "outputs": [],
      "source": [
        "# Import label encoder\n",
        "from sklearn import preprocessing\n",
        "  \n",
        "# label_encoder object knows how to understand word labels.\n",
        "label_encoder = preprocessing.LabelEncoder()\n",
        "  \n",
        "# Encode labels in column .\n",
        "df1['Airline']= label_encoder.fit_transform(df1['Airline'])\n",
        "df1['AirportFrom']= label_encoder.fit_transform(df1['AirportFrom'])\n",
        "df1['AirportTo']= label_encoder.fit_transform(df1['AirportTo'])   \n",
        "    \n"
      ]
    },
    {
      "cell_type": "code",
      "execution_count": null,
      "metadata": {
        "id": "y2nKHrtrI8IH",
        "colab": {
          "base_uri": "https://localhost:8080/",
          "height": 710
        },
        "outputId": "aaac3297-9e96-41b2-d738-4312a55283c1"
      },
      "outputs": [
        {
          "output_type": "display_data",
          "data": {
            "text/plain": [
              "<Figure size 1080x720 with 2 Axes>"
            ],
            "image/png": "[encoded data removed]"
          },
          "metadata": {}
        }
      ],
      "source": [
        "# plotting the correlation using a heatmap\n",
        "fig, ax = plt.subplots(figsize=(15,10))  \n",
        "sns.heatmap(df1.corr( ), cmap=\"YlGnBu\", annot=True)\n",
        "plt.title('Correlation Matrix')\n",
        "plt.show()"
      ]
    },
    {
      "cell_type": "markdown",
      "source": [
        "There is no strong correlation between delay and features that might be leading to delay or not"
      ],
      "metadata": {
        "id": "smeTYfFqdaWD"
      }
    },
    {
      "cell_type": "code",
      "execution_count": null,
      "metadata": {
        "id": "Y279PzSGfh52",
        "colab": {
          "base_uri": "https://localhost:8080/",
          "height": 522
        },
        "outputId": "4c7e3ef8-d0c2-4f24-ba88-e39a846420a0"
      },
      "outputs": [
        {
          "output_type": "display_data",
          "data": {
            "text/plain": [
              "<Figure size 1040x560 with 1 Axes>"
            ],
            "image/png": "[encoded data removed]"
          },
          "metadata": {}
        }
      ],
      "source": [
        "# Plotting Kernel Density Estimate plots for Delay\n",
        "# Setting the figuresize of the graph to 13 in length and 7 in height\n",
        "#\n",
        "plt.figure(figsize=(13,7), dpi= 80)\n",
        "sns.kdeplot(df1.loc[df1['Airline'] == True, \"Delay\"], shade=True, color=\"g\", label=\"Airline\", alpha=.7)\n",
        "sns.kdeplot(df1.loc[df1['AirportTo'] == True, \"Delay\"], shade=True, color=\"deeppink\", label=\"AirportTo\", alpha=.7)\n",
        "sns.kdeplot(df1.loc[df1['AirportFrom'] == True, \"Delay\"], shade=True, color=\"dodgerblue\", label=\"AirportFrom\", alpha=.7)\n",
        "sns.kdeplot(df1.loc[df1['DayOfWeek'] == True, \"Delay\"], shade=True, color=\"orange\", label=\"DayOfWeek\", alpha=.7)\n",
        "plt.title('Density plot of Delay by airport to or from, Airline and Day of week', fontsize=14, color = 'purple')\n",
        "plt.xlabel('Delay', fontsize = 13, color = 'magenta')\n",
        "plt.ylabel('Frequency', color = 'purple', fontsize = 13)\n",
        "plt.legend()\n",
        "plt.show()"
      ]
    },
    {
      "cell_type": "markdown",
      "source": [
        "THe above graph tries to show relatioship between delay and various features. We can see that Airline and Dayof the week are some of the key factor in delay or no delay. This can be intrepretend in than some factor leading to delay such as weather , there could be storm on Tuesday but not on wednesday leading to more  delays on tuesday unlike wednesday. \n",
        "\n",
        "On other factors such as Technical reasons, Flight crew delays are directly influnced by the airline."
      ],
      "metadata": {
        "id": "kUv6g95bdsbo"
      }
    },
    {
      "cell_type": "code",
      "execution_count": null,
      "metadata": {
        "id": "7f68qfyHghUb",
        "colab": {
          "base_uri": "https://localhost:8080/",
          "height": 34
        },
        "outputId": "e068abb3-36bb-4368-c290-4f69b17d47b7"
      },
      "outputs": [
        {
          "output_type": "display_data",
          "data": {
            "text/plain": [
              "<Figure size 480x320 with 0 Axes>"
            ]
          },
          "metadata": {}
        }
      ],
      "source": [
        "#Visual of the diferent determinants of Flights delay\n",
        "plt.figure(dpi= 80)\n",
        "sns.pairplot(df1[['Airline', 'AirportFrom', 'AirportTo', 'DayOfWeek', 'Delay']], kind=\"scatter\", hue=\"Delay\", plot_kws=dict(s=80, edgecolor=\"white\", linewidth=2.5))\n",
        "plt.show()"
      ]
    },
    {
      "cell_type": "markdown",
      "metadata": {
        "id": "63rxmJtKI9b2"
      },
      "source": [
        "## **Modeling**"
      ]
    },
    {
      "cell_type": "markdown",
      "metadata": {
        "id": "gLAbybuXi-Ju"
      },
      "source": [
        "**Preprocessing**"
      ]
    },
    {
      "cell_type": "code",
      "execution_count": null,
      "metadata": {
        "id": "CNyuGLxci5iU"
      },
      "outputs": [],
      "source": [
        "#Just an reminder of how our data looks like\n",
        "df1.head()"
      ]
    },
    {
      "cell_type": "markdown",
      "metadata": {
        "id": "3Ge4p6K5JFnj"
      },
      "source": [
        "### **1. Decision Trees (RandomForest)**"
      ]
    },
    {
      "cell_type": "code",
      "execution_count": null,
      "metadata": {
        "id": "ni173CgYJJFc"
      },
      "outputs": [],
      "source": [
        "#Preprocessing\n",
        "X= df1.drop(['Delay'], axis=1)\n",
        "y = df1['Delay']"
      ]
    },
    {
      "cell_type": "code",
      "execution_count": null,
      "metadata": {
        "id": "ITABGijCYxTF"
      },
      "outputs": [],
      "source": [
        "# Splitting the data into training and testing sets 25%\n",
        "#\n",
        "from sklearn.model_selection import train_test_split\n",
        "X_train, X_test, y_train, y_test = train_test_split(X, y, test_size = 0.25, random_state = 0)"
      ]
    },
    {
      "cell_type": "code",
      "execution_count": null,
      "metadata": {
        "id": "puVyq3SBYxLL"
      },
      "outputs": [],
      "source": [
        "from sklearn.ensemble import RandomForestClassifier\n",
        "\n",
        "forest1 = RandomForestClassifier(n_estimators = 100, random_state=0)\n",
        "forest11 = forest1.fit(X_train, y_train)\n",
        "\n",
        "# Predict based on the model we've trained\n",
        "y_pred = forest11.predict(X_test)\n",
        "\n",
        "y_pred"
      ]
    },
    {
      "cell_type": "code",
      "execution_count": null,
      "metadata": {
        "id": "aKMOvKn8ZE7a"
      },
      "outputs": [],
      "source": [
        "# And now we assess the errors\n",
        "from sklearn.metrics import classification_report\n",
        "from sklearn import metrics\n",
        "# Model Accuracy, how often is the classifier correct?\n",
        "print(\"Report : \",\n",
        "    classification_report(y_test, y_pred))"
      ]
    },
    {
      "cell_type": "markdown",
      "metadata": {
        "id": "FDQbvOj3av6b"
      },
      "source": [
        "Our model is giving us an f1 score of 66% for non delayed class and 57% for the delayed class."
      ]
    },
    {
      "cell_type": "code",
      "execution_count": null,
      "metadata": {
        "id": "SpaH35FsZJCN"
      },
      "outputs": [],
      "source": [
        "# Checking for the most important features that contribute most in predicting the target\n",
        "# Creating a dataframe of features and their respective importances\n",
        "#\n",
        "df = pd.DataFrame({'feature': X.columns, 'importance': np.round(forest11.feature_importances_, 4)}).set_index('feature').sort_values(by = 'importance', ascending = False)\n",
        "df"
      ]
    },
    {
      "cell_type": "code",
      "execution_count": null,
      "metadata": {
        "id": "-7_bOgibZI9J"
      },
      "outputs": [],
      "source": [
        "# Creating a bar chart of feature importance in descending order\n",
        "#\n",
        "df = df[:12].sort_values(by = 'importance', ascending = True)\n",
        "df.plot(kind = 'barh', figsize = (10, 10), color = 'purple')\n",
        "plt.legend(loc = 'center right')\n",
        "plt.title('Bar chart showing feature importance', color = 'indigo', fontsize = 14)\n",
        "plt.xlabel('Features', fontsize = 12, color = 'indigo')\n",
        "plt.show()"
      ]
    },
    {
      "cell_type": "markdown",
      "metadata": {
        "id": "PM0g_ggJbhVw"
      },
      "source": [
        "All our features are important so will move on to parameter tuning"
      ]
    },
    {
      "cell_type": "code",
      "execution_count": null,
      "metadata": {
        "id": "aqB8bPoabq3q"
      },
      "outputs": [],
      "source": [
        "#Defining our feature again\n",
        "#Preprocessing\n",
        "X= df1.drop(['Delay'], axis=1)\n",
        "y = df1['Delay']"
      ]
    },
    {
      "cell_type": "code",
      "execution_count": null,
      "metadata": {
        "id": "SeKT1g1yb_c_"
      },
      "outputs": [],
      "source": [
        "# Splitting the data into training and testing sets 25%\n",
        "#\n",
        "from sklearn.model_selection import train_test_split\n",
        "X_train, X_test, y_train, y_test = train_test_split(X, y, test_size = 0.25, random_state = 0)"
      ]
    },
    {
      "cell_type": "code",
      "execution_count": null,
      "metadata": {
        "id": "BPhXmyEZXrd3"
      },
      "outputs": [],
      "source": [
        "#We Control the depth and a split of the tree\n",
        "forest = RandomForestClassifier(n_estimators = 100, random_state=42, min_samples_split = 20, max_depth=5)\n",
        "forest = forest.fit(X_train, y_train)\n",
        "\n",
        "# Predict based on the model we've trained\n",
        "y_pred = forest.predict(X_test)\n",
        "\n",
        "y_pred"
      ]
    },
    {
      "cell_type": "code",
      "execution_count": null,
      "metadata": {
        "id": "vCo3ZiZ-ZYSF"
      },
      "outputs": [],
      "source": [
        "from sklearn.metrics import confusion_matrix\n",
        "from sklearn.metrics import accuracy_score\n",
        "from sklearn.metrics import classification_report\n",
        "from sklearn import metrics\n",
        "#Evaluating our model\n",
        "print(\"Confusion Matrix: \",\n",
        "        confusion_matrix(y_test, y_pred))\n",
        "      \n",
        "print (\"Accuracy : \",\n",
        "    accuracy_score(y_test,y_pred)*100)\n",
        "      \n",
        "print(\"Report : \",\n",
        "    classification_report(y_test, y_pred))"
      ]
    },
    {
      "cell_type": "markdown",
      "metadata": {
        "id": "FhtyJTn6bZp6"
      },
      "source": [
        "After tuning our parameter our model has improved by giving us an f1 score of 74% for no delayed class and 40% for delayed class. This means our model classifier works best for non delayed class."
      ]
    },
    {
      "cell_type": "markdown",
      "metadata": {
        "id": "zSFpPWgUJO_t"
      },
      "source": [
        "### **2. KNN'S**"
      ]
    },
    {
      "cell_type": "code",
      "execution_count": null,
      "metadata": {
        "id": "xXEp-r5VnuwS"
      },
      "outputs": [],
      "source": [
        "from sklearn.neighbors import KNeighborsClassifier"
      ]
    },
    {
      "cell_type": "code",
      "execution_count": null,
      "metadata": {
        "id": "mquUQd5gJSLf"
      },
      "outputs": [],
      "source": [
        "#Reminder of our data\n",
        "df1.head()"
      ]
    },
    {
      "cell_type": "code",
      "execution_count": null,
      "metadata": {
        "id": "Bwthv360nBgc"
      },
      "outputs": [],
      "source": [
        "#Preprocessing\n",
        "X= df1.drop(['Delay'], axis=1)\n",
        "y = df1['Delay']"
      ]
    },
    {
      "cell_type": "code",
      "execution_count": null,
      "metadata": {
        "id": "mI9QYN2CnBeQ"
      },
      "outputs": [],
      "source": [
        "# Splitting the data into training and testing sets\n",
        "from sklearn.model_selection import train_test_split\n",
        "X_train, X_test, y_train, y_test = train_test_split(X, y, test_size=0.25, random_state = 0)\n"
      ]
    },
    {
      "cell_type": "code",
      "execution_count": null,
      "metadata": {
        "id": "Pe-NH_xxnBYq"
      },
      "outputs": [],
      "source": [
        "#train our model\n",
        "classifier = KNeighborsClassifier(n_neighbors=5)\n",
        "classifier.fit(X_train, y_train)"
      ]
    },
    {
      "cell_type": "code",
      "execution_count": null,
      "metadata": {
        "id": "3zquewyPn4yJ"
      },
      "outputs": [],
      "source": [
        "# Making predictions on our test data\n",
        "y_pred = classifier.predict(X_test)"
      ]
    },
    {
      "cell_type": "code",
      "execution_count": null,
      "metadata": {
        "id": "mRB45sbEoDLS"
      },
      "outputs": [],
      "source": [
        "# Evaluating the Algorithm\n",
        "print(confusion_matrix(y_test, y_pred))\n",
        "print(classification_report(y_test, y_pred))"
      ]
    },
    {
      "cell_type": "markdown",
      "source": [
        "Without tuning any parameter ou KNN model is giving us an f1 score of 69% for class 0 and 58% for class 1"
      ],
      "metadata": {
        "id": "bIYCml28ouo8"
      }
    },
    {
      "cell_type": "markdown",
      "metadata": {
        "id": "OV_0WsYenhx3"
      },
      "source": [
        "**Parameter tuning**"
      ]
    },
    {
      "cell_type": "code",
      "execution_count": null,
      "metadata": {
        "id": "jltXqlvvnhEP"
      },
      "outputs": [],
      "source": [
        "#Preprocessing\n",
        "X= df1.drop(['Delay'], axis=1)\n",
        "y = df1['Delay']"
      ]
    },
    {
      "cell_type": "code",
      "execution_count": null,
      "metadata": {
        "id": "72lEhcA4nBWh"
      },
      "outputs": [],
      "source": [
        "#performing LDA\n",
        "from sklearn.discriminant_analysis import LinearDiscriminantAnalysis \n",
        "model = LinearDiscriminantAnalysis()\n",
        "model.fit(X, y)\n"
      ]
    },
    {
      "cell_type": "code",
      "execution_count": null,
      "metadata": {
        "id": "oQ2bYOWdobU6"
      },
      "outputs": [],
      "source": [
        "# Splitting the data into training and testing sets\n",
        "X_train, X_test, y_train, y_test = train_test_split(X, y, test_size=0.25)"
      ]
    },
    {
      "cell_type": "code",
      "execution_count": null,
      "metadata": {
        "id": "gLRA5KnmovuN"
      },
      "outputs": [],
      "source": [
        "#Standardizing\n",
        "from sklearn.preprocessing import StandardScaler\n",
        "scaler = StandardScaler()\n",
        "scaler.fit(X_train)\n",
        "\n",
        "X_train = scaler.transform(X_train)\n",
        "X_test = scaler.transform(X_test)"
      ]
    },
    {
      "cell_type": "code",
      "execution_count": null,
      "metadata": {
        "id": "cFrpL5kmoU6H"
      },
      "outputs": [],
      "source": [
        "#train our model\n",
        "classifier = KNeighborsClassifier(n_neighbors=5)\n",
        "classifier.fit(X_train, y_train)"
      ]
    },
    {
      "cell_type": "code",
      "execution_count": null,
      "metadata": {
        "id": "9BQmAjK5oP1r"
      },
      "outputs": [],
      "source": [
        "# Making predictions on our test data\n",
        "y_pred = classifier.predict(X_test)"
      ]
    },
    {
      "cell_type": "code",
      "execution_count": null,
      "metadata": {
        "id": "dMy_v_FHoMfz"
      },
      "outputs": [],
      "source": [
        "# Evaluating the Algorithm\n",
        "print(confusion_matrix(y_test, y_pred))\n",
        "print(classification_report(y_test, y_pred))"
      ]
    },
    {
      "cell_type": "markdown",
      "source": [
        "our measure of success which is f1 score has decreased to 66% and 55% after tuning parameter. coul mean this is not the best model for this dataset"
      ],
      "metadata": {
        "id": "_TUj9SnAo-qi"
      }
    },
    {
      "cell_type": "markdown",
      "metadata": {
        "id": "fvV0RlPAJTR_"
      },
      "source": [
        "### **3. Naive Bayes**"
      ]
    },
    {
      "cell_type": "code",
      "execution_count": null,
      "metadata": {
        "id": "Dq3871dkJWeb"
      },
      "outputs": [],
      "source": [
        "from sklearn.naive_bayes import BernoulliNB\n",
        "clf = BernoulliNB()"
      ]
    },
    {
      "cell_type": "code",
      "execution_count": null,
      "metadata": {
        "id": "BVAwv8fqpN2T"
      },
      "outputs": [],
      "source": [
        "#Viewing our dataset\n",
        "df1.head()"
      ]
    },
    {
      "cell_type": "code",
      "execution_count": null,
      "metadata": {
        "id": "RTQe9aRIpNzl"
      },
      "outputs": [],
      "source": [
        "#Preprocessing\n",
        "X= df1.drop(['Delay'], axis=1)\n",
        "y = df1['Delay']"
      ]
    },
    {
      "cell_type": "code",
      "execution_count": null,
      "metadata": {
        "id": "i23a9xiLpq-d"
      },
      "outputs": [],
      "source": [
        "# Train model\n",
        "model = clf.fit(X, y)\n",
        "\n",
        "# model score\n",
        "model.score(X, y)"
      ]
    },
    {
      "cell_type": "markdown",
      "source": [
        "Using bernulli we get a metric score of 55% with no parameters tuned"
      ],
      "metadata": {
        "id": "vIVo4pxPpYeT"
      }
    },
    {
      "cell_type": "markdown",
      "metadata": {
        "id": "-t2IHW8cpxIb"
      },
      "source": [
        "**Parameter tuning**"
      ]
    },
    {
      "cell_type": "code",
      "execution_count": null,
      "metadata": {
        "id": "TNrygIYopq44"
      },
      "outputs": [],
      "source": [
        "#Preprocessing\n",
        "X= df1.drop(['Delay'], axis=1)\n",
        "y = df1['Delay']"
      ]
    },
    {
      "cell_type": "code",
      "execution_count": null,
      "metadata": {
        "id": "N8TRmfonpqzu"
      },
      "outputs": [],
      "source": [
        "# Data Reduction\n",
        "#\n",
        "from sklearn.discriminant_analysis import LinearDiscriminantAnalysis \n",
        "lda = LinearDiscriminantAnalysis()\n",
        "lda.fit(X, y)"
      ]
    },
    {
      "cell_type": "code",
      "execution_count": null,
      "metadata": {
        "id": "U7xTgfMfpqun"
      },
      "outputs": [],
      "source": [
        "#Standardizing the data\n",
        "std = StandardScaler()\n",
        "\n",
        "x = std.fit_transform(X)"
      ]
    },
    {
      "cell_type": "code",
      "execution_count": null,
      "metadata": {
        "id": "qBdNeUZfpqph"
      },
      "outputs": [],
      "source": [
        "# Train model\n",
        "model = clf.fit(x, y)\n",
        "\n",
        "# model score\n",
        "model.score(x, y)"
      ]
    },
    {
      "cell_type": "markdown",
      "source": [
        "After tuning the model does a bit better giving us a metric score of 58%"
      ],
      "metadata": {
        "id": "H7UnDKZSpg-w"
      }
    },
    {
      "cell_type": "markdown",
      "metadata": {
        "id": "6iHqkq2NquyH"
      },
      "source": [
        "**Challenging with Gaussian**"
      ]
    },
    {
      "cell_type": "code",
      "execution_count": null,
      "metadata": {
        "id": "KOSqmVJ0pqkZ"
      },
      "outputs": [],
      "source": [
        "from sklearn.naive_bayes import GaussianNB"
      ]
    },
    {
      "cell_type": "code",
      "execution_count": null,
      "metadata": {
        "id": "ebbN1bGnq8i_"
      },
      "outputs": [],
      "source": [
        "#Preprocessing\n",
        "X= df1.drop(['Delay'], axis=1)\n",
        "y = df1['Delay']"
      ]
    },
    {
      "cell_type": "code",
      "execution_count": null,
      "metadata": {
        "id": "DiJ-6_Llq8gV"
      },
      "outputs": [],
      "source": [
        "#Spliting to train and test\n",
        "X_train, X_test, y_train, y_test = train_test_split(X, y, test_size = 0.25, random_state = 0)"
      ]
    },
    {
      "cell_type": "code",
      "execution_count": null,
      "metadata": {
        "id": "g7NyZuJlq8ao"
      },
      "outputs": [],
      "source": [
        "# Training our model\n",
        "# \n",
        "clf = GaussianNB()  \n",
        "model = clf.fit(X_train, y_train) "
      ]
    },
    {
      "cell_type": "code",
      "execution_count": null,
      "metadata": {
        "id": "cP3URtZPq8VE"
      },
      "outputs": [],
      "source": [
        "# Predicting our test predictors\n",
        "predicted = model.predict(X_test)\n",
        "print(np.mean(predicted == y_test))"
      ]
    },
    {
      "cell_type": "markdown",
      "source": [
        "On using Gaussian our model gives a better score with no parameters tuned of 59%"
      ],
      "metadata": {
        "id": "qd7vzPCUpyPU"
      }
    },
    {
      "cell_type": "markdown",
      "metadata": {
        "id": "kiOx5Cmqrluz"
      },
      "source": [
        "Parameter tuning in Gaussian"
      ]
    },
    {
      "cell_type": "code",
      "execution_count": null,
      "metadata": {
        "id": "wblSUFtCq8Cl"
      },
      "outputs": [],
      "source": [
        "#Preprocessing\n",
        "X= df1.drop(['Delay'], axis=1)\n",
        "y = df1['Delay']"
      ]
    },
    {
      "cell_type": "code",
      "execution_count": null,
      "metadata": {
        "id": "HiI3l77dr72w"
      },
      "outputs": [],
      "source": [
        "# Data Reduction\n",
        "lda = LinearDiscriminantAnalysis()\n",
        "lda.fit(X, y)"
      ]
    },
    {
      "cell_type": "code",
      "execution_count": null,
      "metadata": {
        "id": "SExHSd4xrt6M"
      },
      "outputs": [],
      "source": [
        "#Spliting to train and test\n",
        "X_train, X_test, y_train, y_test = train_test_split(X, y, test_size = 0.25, random_state = 0)"
      ]
    },
    {
      "cell_type": "code",
      "execution_count": null,
      "metadata": {
        "id": "GL1iRxGUr-_4"
      },
      "outputs": [],
      "source": [
        "#Standardizing\n",
        "scaler = StandardScaler()\n",
        "scaler.fit(X_train)\n",
        "\n",
        "X_train = scaler.transform(X_train)\n",
        "X_test = scaler.transform(X_test)"
      ]
    },
    {
      "cell_type": "code",
      "execution_count": null,
      "metadata": {
        "id": "HD0jYs_art2J"
      },
      "outputs": [],
      "source": [
        "# Training our model\n",
        "# \n",
        "clf = GaussianNB()  \n",
        "model = clf.fit(X_train, y_train) "
      ]
    },
    {
      "cell_type": "code",
      "execution_count": null,
      "metadata": {
        "id": "9a0xfGjZrtvG"
      },
      "outputs": [],
      "source": [
        "# Predicting our test predictors\n",
        "predicted = model.predict(X_test)\n",
        "print(np.mean(predicted == y_test))"
      ]
    },
    {
      "cell_type": "markdown",
      "source": [
        "There is no change in metric score after parameter tuning. 59%"
      ],
      "metadata": {
        "id": "d4cR0RP5p8Nx"
      }
    },
    {
      "cell_type": "markdown",
      "metadata": {
        "id": "Px_ub45JJXdj"
      },
      "source": [
        "### **6. Neural Networks**"
      ]
    },
    {
      "cell_type": "code",
      "execution_count": null,
      "metadata": {
        "id": "j3PNjXFjJbjc"
      },
      "outputs": [],
      "source": [
        "from sklearn.neural_network import MLPClassifier"
      ]
    },
    {
      "cell_type": "code",
      "execution_count": null,
      "metadata": {
        "id": "uyNa5bWEs7gd"
      },
      "outputs": [],
      "source": [
        "#Dataset overview\n",
        "df1.head()"
      ]
    },
    {
      "cell_type": "code",
      "execution_count": null,
      "metadata": {
        "id": "I9Y6smbxs7bZ"
      },
      "outputs": [],
      "source": [
        "#Preprocessing\n",
        "X= df1.drop(['Delay'], axis=1)\n",
        "y = df1['Delay']"
      ]
    },
    {
      "cell_type": "code",
      "execution_count": null,
      "metadata": {
        "id": "ek0noP_Is7Yb"
      },
      "outputs": [],
      "source": [
        " #  Split the data into train and test set\n",
        "X_train, X_test, y_train, y_test = train_test_split(X, y, test_size = 0.25, random_state = 0) "
      ]
    },
    {
      "cell_type": "code",
      "execution_count": null,
      "metadata": {
        "id": "2Ah5qPoTuRxJ"
      },
      "outputs": [],
      "source": [
        "# Creating our model\n",
        "mlp = MLPClassifier(hidden_layer_sizes=(30,30,30), random_state=10, max_iter=500)\n",
        "\n",
        "# fitting the data\n",
        "mlp.fit(X_train,y_train)"
      ]
    },
    {
      "cell_type": "code",
      "execution_count": null,
      "metadata": {
        "id": "jMpqOwSsuRrp"
      },
      "outputs": [],
      "source": [
        "# Predicting\n",
        "y_pred = mlp.predict(X_test)\n",
        "\n",
        "# Evaluation\n",
        "print(confusion_matrix(y_test,y_pred))\n",
        "\n",
        "print('-----------------------------------------')\n",
        "\n",
        "print(classification_report(y_test,y_pred))"
      ]
    },
    {
      "cell_type": "markdown",
      "source": [
        "Using the Multilayer perceptron our f1 score is 72% and 47% for our classes repectively. This is just a base line there is no activation or hyperparameter tuning done"
      ],
      "metadata": {
        "id": "SInUHahCqJ0G"
      }
    },
    {
      "cell_type": "markdown",
      "source": [
        "**Parameter tuning**"
      ],
      "metadata": {
        "id": "-0gsMHzRtcjz"
      }
    },
    {
      "cell_type": "code",
      "execution_count": null,
      "metadata": {
        "id": "lo-ztxPcuRl8"
      },
      "outputs": [],
      "source": [
        "#Preprocessing\n",
        "X= df1.drop(['Delay'], axis=1)\n",
        "y = df1['Delay']"
      ]
    },
    {
      "cell_type": "code",
      "execution_count": null,
      "metadata": {
        "id": "S-MAzdyFuRem"
      },
      "outputs": [],
      "source": [
        "#  Split the data into train and test set\n",
        "X_train, X_test, y_train, y_test = train_test_split(X, y, test_size = 0.25, random_state = 0) "
      ]
    },
    {
      "cell_type": "code",
      "execution_count": null,
      "metadata": {
        "id": "xmDlmz5jtN2A"
      },
      "outputs": [],
      "source": [
        "# Initialize the scaler\n",
        "scaler = StandardScaler()\n",
        "\n",
        "# Fitting the scaler\n",
        "scaler.fit(X_train)\n",
        "# Applying the transformation to the data\n",
        "X_train = scaler.transform(X_train)\n",
        "\n",
        "X_test = scaler.transform(X_test)"
      ]
    },
    {
      "cell_type": "code",
      "execution_count": null,
      "metadata": {
        "id": "Ljk1eaHDs7S0"
      },
      "outputs": [],
      "source": [
        "# Creating our model\n",
        "mlp = MLPClassifier(hidden_layer_sizes=(30,30,30), activation='logistic', random_state=10, max_iter=500)\n",
        "\n",
        "# fitting the data\n",
        "mlp.fit(X_train,y_train)"
      ]
    },
    {
      "cell_type": "code",
      "execution_count": null,
      "metadata": {
        "id": "-1v4c-cFs7QI"
      },
      "outputs": [],
      "source": [
        "# Predicting\n",
        "y_pred = mlp.predict(X_test)\n",
        "\n",
        "# Evaluation\n",
        "print(confusion_matrix(y_test,y_pred))\n",
        "\n",
        "print('-----------------------------------------')\n",
        "\n",
        "print(classification_report(y_test,y_pred))"
      ]
    },
    {
      "cell_type": "markdown",
      "source": [
        "After activation and parameter tuning our model was able to get a better f1 score for second class 55% and 71% for first class"
      ],
      "metadata": {
        "id": "2G8-XBHRsF0k"
      }
    },
    {
      "cell_type": "markdown",
      "source": [
        "#**Random Re-sampling: Oversampling and Undersampling**"
      ],
      "metadata": {
        "id": "6AgAyY7hHfI3"
      }
    },
    {
      "cell_type": "code",
      "source": [
        "# Import imbalanced-learn Library\n",
        "# check version number\n",
        "import imblearn\n",
        "print(imblearn.__version__)"
      ],
      "metadata": {
        "id": "v4FcSuht4V1E"
      },
      "execution_count": null,
      "outputs": []
    },
    {
      "cell_type": "code",
      "source": [
        "# evaluating  neural networks model with random oversampling and undersampling\n",
        "from numpy import mean\n",
        "from sklearn.datasets import make_classification\n",
        "from sklearn.model_selection import cross_val_score\n",
        "from sklearn.model_selection import RepeatedStratifiedKFold\n",
        "from imblearn.pipeline import Pipeline\n",
        "from imblearn.over_sampling import RandomOverSampler\n",
        "from imblearn.under_sampling import RandomUnderSampler\n",
        "\n",
        "# define dataset\n",
        "X, y = make_classification(n_samples=10000, weights=[0.99], flip_y=0)\n",
        "\n",
        "# define pipeline (sampling strategies)\n",
        "over = RandomOverSampler(sampling_strategy=0.1)\n",
        "under = RandomUnderSampler(sampling_strategy=0.5)\n",
        "\n",
        "steps = [('o', over), ('u', under), ('m', MLPClassifier())]\n",
        "pipeline = Pipeline(steps=steps)\n",
        "# evaluate pipeline\n",
        "cv = RepeatedStratifiedKFold(n_splits=10, n_repeats=3, random_state=1)\n",
        "scores = cross_val_score(pipeline, X, y, scoring='f1_micro', cv=cv, n_jobs=-1)\n",
        "score = mean(scores)\n",
        "print('F1 Score: %.3f' % score)"
      ],
      "metadata": {
        "id": "4cldNxOj4W4m"
      },
      "execution_count": null,
      "outputs": []
    },
    {
      "cell_type": "markdown",
      "source": [
        "Running above evaluates the model on the imbalanced dataset with oversampling."
      ],
      "metadata": {
        "id": "M624ib585ISF"
      }
    },
    {
      "cell_type": "markdown",
      "source": [
        "# **Other model comparison with our best model**"
      ],
      "metadata": {
        "id": "cfHOgnP8kLv5"
      }
    },
    {
      "cell_type": "code",
      "source": [
        "# Importing different classification models\n",
        "#\n",
        "from sklearn.model_selection import KFold, cross_val_score\n",
        "from xgboost import XGBClassifier\n",
        "import xgboost as xgb\n",
        "import warnings\n",
        "warnings.filterwarnings('ignore')\n",
        "# Selecting the independent variables and the target variable\n",
        "#\n",
        "X = df1.drop('Delay', axis = 1)\n",
        "y = df1['Delay']\n",
        "\n",
        "xgb_model = xgb.XGBClassifier(objective=\"binary:logistic\", random_state=42)\n",
        "xgb_model.fit(X, y)\n",
        "\n",
        "y_pred = xgb_model.predict(X)\n",
        "\n"
      ],
      "metadata": {
        "id": "HhHoXkNvkRTT"
      },
      "execution_count": null,
      "outputs": []
    },
    {
      "cell_type": "code",
      "source": [
        "print(confusion_matrix(y, y_pred))\n",
        "print(classification_report(y,y_pred))"
      ],
      "metadata": {
        "id": "PDUc7RRTwkB8"
      },
      "execution_count": null,
      "outputs": []
    },
    {
      "cell_type": "markdown",
      "source": [
        "XGBoost Classifier gives a f1 score of 73% and 51% "
      ],
      "metadata": {
        "id": "VYi4kDlAw0NL"
      }
    },
    {
      "cell_type": "code",
      "source": [
        "#Introducing early stopping as a form of parameter tuning\n",
        "X = df1.drop('Delay', axis = 1)\n",
        "y = df1['Delay']\n",
        "xgb_model = xgb.XGBClassifier(objective=\"binary:logistic\", random_state=42, eval_metric=\"auc\")\n",
        "\n",
        "X_train, X_test, y_train, y_test = train_test_split(X, y, random_state=42)\n",
        "\n",
        "xgb_model.fit(X_train, y_train, early_stopping_rounds=5, eval_set=[(X_test, y_test)])\n",
        "\n",
        "y_pred = xgb_model.predict(X_test)"
      ],
      "metadata": {
        "id": "LoJpqJVKwTAa"
      },
      "execution_count": null,
      "outputs": []
    },
    {
      "cell_type": "code",
      "source": [
        "print(confusion_matrix(y_test, y_pred))\n",
        "print(classification_report(y_test,y_pred))"
      ],
      "metadata": {
        "id": "P4tgWOYtx1ry"
      },
      "execution_count": null,
      "outputs": []
    },
    {
      "cell_type": "markdown",
      "source": [
        "Our model hasn't improved it still gives us an f1 score of 73% and 51%"
      ],
      "metadata": {
        "id": "0HPyc7oWyBF5"
      }
    },
    {
      "cell_type": "markdown",
      "metadata": {
        "id": "JQtEvKGdJdHg"
      },
      "source": [
        "## **Conclusion**\n",
        "\n",
        "* The best model is Neural network (MLp) follwed by Random forest, however on challenging the given model with XGBoost, XGBoost gives the highest f1 score which is what we are looking for in our metric of success"
      ]
    },
    {
      "cell_type": "markdown",
      "metadata": {
        "id": "2baAHjxZJg8c"
      },
      "source": [
        "## **Recommendations**"
      ]
    },
    {
      "cell_type": "markdown",
      "source": [
        ""
      ],
      "metadata": {
        "id": "l_2zw4iCJcZf"
      }
    }
  ],
  "metadata": {
    "colab": {
      "collapsed_sections": [],
      "name": "Team Naruto Project.ipynb",
      "provenance": [],
      "toc_visible": true,
      "include_colab_link": true
    },
    "kernelspec": {
      "display_name": "Python 3",
      "name": "python3"
    },
    "language_info": {
      "name": "python"
    }
  },
  "nbformat": 4,
  "nbformat_minor": 0
}